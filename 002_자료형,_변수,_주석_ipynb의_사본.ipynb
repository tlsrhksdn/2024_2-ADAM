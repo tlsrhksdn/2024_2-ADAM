{
  "nbformat": 4,
  "nbformat_minor": 0,
  "metadata": {
    "colab": {
      "provenance": [],
      "include_colab_link": true
    },
    "kernelspec": {
      "name": "python3",
      "display_name": "Python 3"
    },
    "language_info": {
      "name": "python"
    }
  },
  "cells": [
    {
      "cell_type": "markdown",
      "metadata": {
        "id": "view-in-github",
        "colab_type": "text"
      },
      "source": [
        "<a href=\"https://colab.research.google.com/github/tlsrhksdn/2024_2-ADAM/blob/main/002_%EC%9E%90%EB%A3%8C%ED%98%95%2C_%EB%B3%80%EC%88%98%2C_%EC%A3%BC%EC%84%9D_ipynb%EC%9D%98_%EC%82%AC%EB%B3%B8.ipynb\" target=\"_parent\"><img src=\"https://colab.research.google.com/assets/colab-badge.svg\" alt=\"Open In Colab\"/></a>"
      ]
    },
    {
      "cell_type": "markdown",
      "source": [
        "# 002_자료형, 변수, 주석\n",
        "\n",
        "- 예시 답이 있는 문제는 답 작성 방법에 대한 간단한 예시이므로, 코드를 따라 적어보거나 읽어본 뒤 넘어가시면 됩니다.\n",
        "\n",
        "---"
      ],
      "metadata": {
        "id": "lxgz0fGKnwmV"
      }
    },
    {
      "cell_type": "markdown",
      "source": [
        "### 1) 숫자 5를 print() 함수를 사용하여 출력하십시오."
      ],
      "metadata": {
        "id": "ejzxPDxVlcmk"
      }
    },
    {
      "cell_type": "code",
      "source": [
        "# 예시 답\n",
        "print(5)"
      ],
      "metadata": {
        "colab": {
          "base_uri": "https://localhost:8080/"
        },
        "id": "xbUfSSzElb_6",
        "outputId": "2e40f6b1-ae99-4f24-e573-a427a9fcf1f2"
      },
      "execution_count": null,
      "outputs": [
        {
          "output_type": "stream",
          "name": "stdout",
          "text": [
            "5\n"
          ]
        }
      ]
    },
    {
      "cell_type": "markdown",
      "source": [
        "### 2) 음수 -10과 실수 3.14를 각각 출력하십시오."
      ],
      "metadata": {
        "id": "D4lER-XYlsPc"
      }
    },
    {
      "cell_type": "code",
      "source": [
        "print(-10)\n",
        "print(3.14)"
      ],
      "metadata": {
        "id": "p0tYYyeelsaF",
        "colab": {
          "base_uri": "https://localhost:8080/"
        },
        "outputId": "167af237-9f97-4cdf-f83e-a09491f49bbd"
      },
      "execution_count": null,
      "outputs": [
        {
          "output_type": "stream",
          "name": "stdout",
          "text": [
            "-10\n",
            "3.14\n"
          ]
        }
      ]
    },
    {
      "cell_type": "markdown",
      "source": [
        "### 3) 다음 연산을 수행하고 결과를 출력하세요.\n",
        "\n",
        "- 5+3의 결과를 출력하십시오.\n",
        "- 2*8의 결과를 출력하십시오.\n",
        "- 3*(3+1)의 결과를 출력하십시오."
      ],
      "metadata": {
        "id": "4u7m7mB7ltpV"
      }
    },
    {
      "cell_type": "code",
      "source": [
        "print(5+3)\n",
        "print(2*8)\n",
        "print(3*(3+1))"
      ],
      "metadata": {
        "id": "S7-JqGzdltpV",
        "colab": {
          "base_uri": "https://localhost:8080/"
        },
        "outputId": "4b3a0540-e6b2-445c-c828-968a8cfb1802"
      },
      "execution_count": null,
      "outputs": [
        {
          "output_type": "stream",
          "name": "stdout",
          "text": [
            "8\n",
            "16\n",
            "12\n"
          ]
        }
      ]
    },
    {
      "cell_type": "markdown",
      "source": [
        "### 4) 문자열 \"ㅋ\"를 9번 반복하여 출력하십시오."
      ],
      "metadata": {
        "id": "b4kPX14yluAl"
      }
    },
    {
      "cell_type": "code",
      "source": [
        "print(\"ㅋ\"*9)"
      ],
      "metadata": {
        "id": "0OEkli-hluAm",
        "colab": {
          "base_uri": "https://localhost:8080/"
        },
        "outputId": "41308535-c7bc-4595-f970-91276ec84ea2"
      },
      "execution_count": null,
      "outputs": [
        {
          "output_type": "stream",
          "name": "stdout",
          "text": [
            "ㅋㅋㅋㅋㅋㅋㅋㅋㅋ\n"
          ]
        }
      ]
    },
    {
      "cell_type": "markdown",
      "source": [
        "### 5) not (5 > 10)의 결과를 출력하십시오."
      ],
      "metadata": {
        "id": "OzkLLE-1luAn"
      }
    },
    {
      "cell_type": "code",
      "source": [
        "print(not(5 > 10))"
      ],
      "metadata": {
        "id": "UwcHUvkNluAn",
        "colab": {
          "base_uri": "https://localhost:8080/"
        },
        "outputId": "fa869726-ba0c-4ecf-b193-c4b688f673b5"
      },
      "execution_count": null,
      "outputs": [
        {
          "output_type": "stream",
          "name": "stdout",
          "text": [
            "True\n"
          ]
        }
      ]
    },
    {
      "cell_type": "markdown",
      "source": [
        "### 6) 수식 100 == 200의 결과를 출력하십시오."
      ],
      "metadata": {
        "id": "FRC5f9mTluWy"
      }
    },
    {
      "cell_type": "code",
      "source": [
        "print(100 == 200 )"
      ],
      "metadata": {
        "id": "uLXSZTYlluWz",
        "colab": {
          "base_uri": "https://localhost:8080/"
        },
        "outputId": "6c206255-93b5-4563-c821-01df4920953d"
      },
      "execution_count": null,
      "outputs": [
        {
          "output_type": "stream",
          "name": "stdout",
          "text": [
            "False\n"
          ]
        }
      ]
    },
    {
      "cell_type": "markdown",
      "source": [
        "### 7) 다음 조건에 따라 변수를 생성하고 출력하세요.\n",
        "\n",
        "- destination 변수에 \"파리\"를, days 변수에 5(일)을 할당하십시오.\n",
        "- print 함수를 사용하여 \"내 여행지는 X이고, 여행 기간은 Y일입니다.\"라는 문장을 출력하십시오."
      ],
      "metadata": {
        "id": "d5Fq2fuQluW0"
      }
    },
    {
      "cell_type": "code",
      "source": [
        "# 예시 답\n",
        "destination = \"파리\"\n",
        "days = 5\n",
        "print(\"내 여행지는 \" + destination + \"이고, 여행 기간은 \" + str(days) + \"일입니다.\")"
      ],
      "metadata": {
        "colab": {
          "base_uri": "https://localhost:8080/"
        },
        "id": "r8W2P1aIluW0",
        "outputId": "a897c01e-5b52-43ae-edbb-a6f37459f548"
      },
      "execution_count": null,
      "outputs": [
        {
          "output_type": "stream",
          "name": "stdout",
          "text": [
            "내 여행지는 파리이고, 여행 기간은 5일입니다.\n"
          ]
        }
      ]
    },
    {
      "cell_type": "markdown",
      "source": [
        "### 8) 다음 조건에 따라 변수를 생성하고 출력하세요.\n",
        "\n",
        "- review 변수에 영화 리뷰 \"흥미진진하다\"를, rating 변수에 평점 4.5를 할당하십시오.\n",
        "- print 함수를 사용하여 \"이 영화에 대한 나의 리뷰는 X이고, 평점은 Y입니다.\"라는 문장을 출력하십시오."
      ],
      "metadata": {
        "id": "rCVPhl_IluW0"
      }
    },
    {
      "cell_type": "code",
      "source": [
        "review=\"흥미진진하다\"\n",
        "rating=4.5\n",
        "\n",
        "print(\"이 영화에 대한 나의 리뷰는 \"+review+\"이고, 평점은 \"+str(rating)+\"입니다.\")"
      ],
      "metadata": {
        "id": "jbrf_xqgluW0"
      },
      "execution_count": null,
      "outputs": []
    },
    {
      "cell_type": "markdown",
      "source": [
        "### 9) 아래의 코드 내용 전체를 주석으로 처리하세요."
      ],
      "metadata": {
        "id": "G8nJyWEyluW0"
      }
    },
    {
      "cell_type": "code",
      "source": [
        "# print(\"아침에는 커피가 필요해\")\n",
        "# print(\"점심에는 샐러드를 먹고\")\n",
        "# print(\"저녁에는 스파게티를 좋아해\")"
      ],
      "metadata": {
        "id": "3eg78FfVluW0"
      },
      "execution_count": null,
      "outputs": []
    },
    {
      "cell_type": "markdown",
      "source": [
        "### 10) 주석을 사용해 아래 코드가 어떤 동작을 하는지 설명하세요."
      ],
      "metadata": {
        "id": "XRg8F3G7lu_O"
      }
    },
    {
      "cell_type": "code",
      "source": [
        "# 여기에 주석을 추가하여 아래 코드 설명하기\n",
        "# 안녕 파이썬을 출력해준다.\n",
        "print(\"안녕, 파이썬!\")"
      ],
      "metadata": {
        "id": "JCghgETFlu_P"
      },
      "execution_count": null,
      "outputs": []
    }
  ]
}