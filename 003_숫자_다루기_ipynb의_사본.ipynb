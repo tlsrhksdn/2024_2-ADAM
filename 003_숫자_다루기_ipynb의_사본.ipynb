{
  "nbformat": 4,
  "nbformat_minor": 0,
  "metadata": {
    "colab": {
      "provenance": [],
      "include_colab_link": true
    },
    "kernelspec": {
      "name": "python3",
      "display_name": "Python 3"
    },
    "language_info": {
      "name": "python"
    }
  },
  "cells": [
    {
      "cell_type": "markdown",
      "metadata": {
        "id": "view-in-github",
        "colab_type": "text"
      },
      "source": [
        "<a href=\"https://colab.research.google.com/github/tlsrhksdn/2024_2-ADAM/blob/examples/003_%EC%88%AB%EC%9E%90_%EB%8B%A4%EB%A3%A8%EA%B8%B0_ipynb%EC%9D%98_%EC%82%AC%EB%B3%B8.ipynb\" target=\"_parent\"><img src=\"https://colab.research.google.com/assets/colab-badge.svg\" alt=\"Open In Colab\"/></a>"
      ]
    },
    {
      "cell_type": "markdown",
      "source": [
        "# 003_숫자 다루기\n",
        "\n",
        "- 예시 답이 있는 문제는 답 작성 방법에 대한 간단한 예시이므로, 코드를 따라 적어보거나 읽어본 뒤 넘어가시면 됩니다.\n",
        "\n",
        "---"
      ],
      "metadata": {
        "id": "lxgz0fGKnwmV"
      }
    },
    {
      "cell_type": "code",
      "source": [
        "!git clone https://github.com/tlsrhksdn/2024_2-ADAM.git"
      ],
      "metadata": {
        "id": "LhZsIPwmyP5J"
      },
      "execution_count": null,
      "outputs": []
    },
    {
      "cell_type": "markdown",
      "source": [
        "### 1) 더하기 연산자 `+`를 사용하여 아래의 수식을 완성하고 결과를 출력해보세요.\n",
        "\n",
        "- `4 더하기 7`"
      ],
      "metadata": {
        "id": "ejzxPDxVlcmk"
      }
    },
    {
      "cell_type": "code",
      "source": [
        "# 예시 답\n",
        "print(4 + 7)"
      ],
      "metadata": {
        "id": "xbUfSSzElb_6",
        "colab": {
          "base_uri": "https://localhost:8080/"
        },
        "outputId": "720e8239-447c-49a1-ebd1-1c426b4aeee2"
      },
      "execution_count": null,
      "outputs": [
        {
          "output_type": "stream",
          "name": "stdout",
          "text": [
            "11\n"
          ]
        }
      ]
    },
    {
      "cell_type": "markdown",
      "source": [
        "### 2) 빼기 연산자 `-`를 사용하여 아래의 수식을 완성하고 결과를 출력해보세요.\n",
        "\n",
        "- `9 빼기 5`"
      ],
      "metadata": {
        "id": "N1Z7dWJboV8Q"
      }
    },
    {
      "cell_type": "code",
      "source": [
        "print(9 - 5)"
      ],
      "metadata": {
        "id": "ySbGmU8boV8Q"
      },
      "execution_count": null,
      "outputs": []
    },
    {
      "cell_type": "markdown",
      "source": [
        "### 3) 곱하기 연산자 `*`를 사용하여 아래의 수식을 완성하고 결과를 출력해보세요.\n",
        "\n",
        "- `8 곱하기 3`"
      ],
      "metadata": {
        "id": "VoAj90McoWSI"
      }
    },
    {
      "cell_type": "code",
      "source": [
        "print(8 * 3)"
      ],
      "metadata": {
        "id": "WWWnm59yoWSI",
        "colab": {
          "base_uri": "https://localhost:8080/"
        },
        "outputId": "83ada365-259b-49ca-a208-97a3fdd8be12"
      },
      "execution_count": null,
      "outputs": [
        {
          "output_type": "stream",
          "name": "stdout",
          "text": [
            "24\n"
          ]
        }
      ]
    },
    {
      "cell_type": "markdown",
      "source": [
        "### 4) 나누기 연산자 `/`를 사용하여 아래의 수식을 완성하고 결과를 출력해보세요.\n",
        "\n",
        "- `10 나누기 2`"
      ],
      "metadata": {
        "id": "UW3_NskVoWSI"
      }
    },
    {
      "cell_type": "code",
      "source": [
        "print(10 / 2)"
      ],
      "metadata": {
        "id": "HNw-61eToWSI"
      },
      "execution_count": null,
      "outputs": []
    },
    {
      "cell_type": "markdown",
      "source": [
        "### 5) 제곱 연산자 `**`를 사용하여 아래의 수식을 완성하고 결과를 출력해보세요.\n",
        "\n",
        "- `4의 제곱`"
      ],
      "metadata": {
        "id": "Q4cGfSekoWl1"
      }
    },
    {
      "cell_type": "code",
      "source": [
        "print(4 ** 2)"
      ],
      "metadata": {
        "id": "3xzEc9RgoWl2",
        "colab": {
          "base_uri": "https://localhost:8080/"
        },
        "outputId": "f27b2ad1-faed-4986-fe43-75c92b4f3eb0"
      },
      "execution_count": null,
      "outputs": [
        {
          "output_type": "stream",
          "name": "stdout",
          "text": [
            "16\n"
          ]
        }
      ]
    },
    {
      "cell_type": "markdown",
      "source": [
        "### 6) 비교 연산자 `>`를 사용하여 아래의 비교 수식의 참/거짓을 판별해보세요.\n",
        "\n",
        "- `7 > 5`"
      ],
      "metadata": {
        "id": "1tvw97lwoWl2"
      }
    },
    {
      "cell_type": "code",
      "source": [
        "# 예시 답\n",
        "print(7 > 5)  # True: 참"
      ],
      "metadata": {
        "colab": {
          "base_uri": "https://localhost:8080/"
        },
        "id": "HMwjRcjCoWl2",
        "outputId": "c70c3142-6fe5-449a-cce1-688d7bf8769d"
      },
      "execution_count": null,
      "outputs": [
        {
          "output_type": "stream",
          "name": "stdout",
          "text": [
            "True\n"
          ]
        }
      ]
    },
    {
      "cell_type": "markdown",
      "source": [
        "### 7) 비교 연산자 `>=`를 사용하여 아래의 비교 수식의 참/거짓을 판별해보세요.\n",
        "\n",
        "- `7 >= 7`"
      ],
      "metadata": {
        "id": "_wmnHGFmoWl2"
      }
    },
    {
      "cell_type": "code",
      "source": [
        "print( 7 >= 7)"
      ],
      "metadata": {
        "id": "hfQYpc-JoWl2",
        "colab": {
          "base_uri": "https://localhost:8080/"
        },
        "outputId": "d5a5f1e7-6b9a-4d11-fa28-2e3c42bd4b0a"
      },
      "execution_count": null,
      "outputs": [
        {
          "output_type": "stream",
          "name": "stdout",
          "text": [
            "True\n"
          ]
        }
      ]
    },
    {
      "cell_type": "markdown",
      "source": [
        "### 8) 논리 연산자 `and`를 사용하여 아래의 두 조건이 모두 참인지 확인해보세요.\n",
        "\n",
        "\n",
        "- `4 > 2` and `5 > 3`"
      ],
      "metadata": {
        "id": "ya1kewuNoWl2"
      }
    },
    {
      "cell_type": "code",
      "source": [
        "# 예시 답\n",
        "print(4 > 2 and 5 > 3)"
      ],
      "metadata": {
        "colab": {
          "base_uri": "https://localhost:8080/"
        },
        "id": "iVZgx42HoWl3",
        "outputId": "dde66b81-432a-45f6-9744-14e6b7d78305"
      },
      "execution_count": null,
      "outputs": [
        {
          "output_type": "stream",
          "name": "stdout",
          "text": [
            "True\n"
          ]
        }
      ]
    },
    {
      "cell_type": "markdown",
      "source": [
        "### 9) 논리 연산자 `or`를 사용하여 아래의 두 조건 중 하나라도 참인지 확인해보세요.\n",
        "\n",
        "\n",
        "- `3 < 2` or `8 > 4`"
      ],
      "metadata": {
        "id": "1YGyT5VLoXuq"
      }
    },
    {
      "cell_type": "code",
      "source": [
        "print(3 < 2 or 8 > 4)"
      ],
      "metadata": {
        "id": "lcsHz43CoXur",
        "colab": {
          "base_uri": "https://localhost:8080/"
        },
        "outputId": "788b28eb-9a57-45e4-cabd-67e4a1d73e4d"
      },
      "execution_count": null,
      "outputs": [
        {
          "output_type": "stream",
          "name": "stdout",
          "text": [
            "True\n"
          ]
        }
      ]
    },
    {
      "cell_type": "markdown",
      "source": [
        "### 10) 다음 수식의 결과가 무엇인지 출력하여 확인해보세요.\n",
        "\n",
        "- `3 + 4 * 2`"
      ],
      "metadata": {
        "id": "Bz6mQPDyoXur"
      }
    },
    {
      "cell_type": "code",
      "source": [
        "print(3 + 4 * 2)"
      ],
      "metadata": {
        "id": "oiPPQeffoXur",
        "colab": {
          "base_uri": "https://localhost:8080/"
        },
        "outputId": "9e003e27-9b51-4c0b-a04f-0802ecc5a6bd"
      },
      "execution_count": null,
      "outputs": [
        {
          "output_type": "stream",
          "name": "stdout",
          "text": [
            "11\n"
          ]
        }
      ]
    },
    {
      "cell_type": "markdown",
      "source": [
        "### 11) 변수 `number`에 `15`를 할당하고, 이 값을 출력해보세요.\n"
      ],
      "metadata": {
        "id": "F_zzyUWVoXu4"
      }
    },
    {
      "cell_type": "code",
      "source": [
        "# 예시 답\n",
        "number = 15\n",
        "print(number)"
      ],
      "metadata": {
        "colab": {
          "base_uri": "https://localhost:8080/"
        },
        "id": "0a6VTiCVoXu4",
        "outputId": "b492f427-b1d6-4e12-c473-3c9e7e79ad57"
      },
      "execution_count": null,
      "outputs": [
        {
          "output_type": "stream",
          "name": "stdout",
          "text": [
            "15\n"
          ]
        }
      ]
    },
    {
      "cell_type": "markdown",
      "source": [
        "### 12) 변수 `a`에 `10`, 변수 `b`에 `5`를 할당한 후, 두 변수를 더한 결과를 출력해보세요.\n"
      ],
      "metadata": {
        "id": "m3eCuD43oXu4"
      }
    },
    {
      "cell_type": "code",
      "source": [
        "a = 10\n",
        "b = 5\n",
        "\n",
        "print(a + b)"
      ],
      "metadata": {
        "id": "a5KjltuJoXu4",
        "colab": {
          "base_uri": "https://localhost:8080/"
        },
        "outputId": "9d178bb5-4cc3-424f-b812-411fd01c307c"
      },
      "execution_count": null,
      "outputs": [
        {
          "output_type": "stream",
          "name": "stdout",
          "text": [
            "15\n"
          ]
        }
      ]
    },
    {
      "cell_type": "markdown",
      "source": [
        "### 13) 변수 `num`에 `7`을 할당하고, 이 변수의 값을 `3`만큼 증가시킨 후, 최종 값을 출력해보세요.\n"
      ],
      "metadata": {
        "id": "4tcscFh1oXu4"
      }
    },
    {
      "cell_type": "code",
      "source": [
        "num = 7\n",
        "print(num + 3)"
      ],
      "metadata": {
        "id": "FZAdF_F4oXu4",
        "colab": {
          "base_uri": "https://localhost:8080/"
        },
        "outputId": "b5c2e124-e06e-44cf-b647-bbec611c7966"
      },
      "execution_count": null,
      "outputs": [
        {
          "output_type": "stream",
          "name": "stdout",
          "text": [
            "10\n"
          ]
        }
      ]
    },
    {
      "cell_type": "markdown",
      "source": [
        "### 14) `max` 함수를 사용하여 숫자 `3`, `12`, `9` 중 가장 큰 값을 찾아 출력해보세요.\n"
      ],
      "metadata": {
        "id": "uPNHpDGCoXu4"
      }
    },
    {
      "cell_type": "code",
      "source": [
        "print(max(3, 12, 9))"
      ],
      "metadata": {
        "id": "qNXz--_LoXu4",
        "colab": {
          "base_uri": "https://localhost:8080/"
        },
        "outputId": "872ba00d-e499-4ed1-abf3-b66359da4a07"
      },
      "execution_count": null,
      "outputs": [
        {
          "output_type": "stream",
          "name": "stdout",
          "text": [
            "12\n"
          ]
        }
      ]
    },
    {
      "cell_type": "markdown",
      "source": [
        "### 15) `math` 모듈의 `sqrt` 함수를 사용하여 `16`의 제곱근을 구한 후 출력해보세요.\n",
        "\n",
        "- math 모듈을 import 하는 것을 잊지 마세요"
      ],
      "metadata": {
        "id": "cZu8_4e6oXu4"
      }
    },
    {
      "cell_type": "code",
      "source": [
        "import math\n",
        "\n",
        "print(math.sqrt(16))"
      ],
      "metadata": {
        "id": "KHcD1Zg0oXu4",
        "colab": {
          "base_uri": "https://localhost:8080/"
        },
        "outputId": "4f18c752-ec7d-4bc5-c9f6-ad32b8582cd7"
      },
      "execution_count": null,
      "outputs": [
        {
          "output_type": "stream",
          "name": "stdout",
          "text": [
            "4.0\n"
          ]
        }
      ]
    },
    {
      "cell_type": "markdown",
      "source": [
        "### 16) `random` 모듈의 `random` 함수를 사용하여 0 이상 1 미만의 무작위 수를 생성한 후 출력해보세요.\n",
        "\n",
        "- random 모듈을 import 하는 것을 잊지 마세요"
      ],
      "metadata": {
        "id": "zGNP8iE-oXu5"
      }
    },
    {
      "cell_type": "code",
      "source": [
        "import random\n",
        "\n",
        "print (random.random())"
      ],
      "metadata": {
        "id": "h8GuoB_1oXu5",
        "colab": {
          "base_uri": "https://localhost:8080/"
        },
        "outputId": "22c0c594-3030-47f4-9cc5-98fe65fe0a30"
      },
      "execution_count": null,
      "outputs": [
        {
          "output_type": "stream",
          "name": "stdout",
          "text": [
            "0.3948462773827899\n"
          ]
        }
      ]
    },
    {
      "cell_type": "markdown",
      "source": [
        "### 17) `random` 모듈의 `randint` 함수를 사용하여 1 이상 10 이하의 무작위 정수를 생성한 후 출력해보세요.\n"
      ],
      "metadata": {
        "id": "F0eh2tEoy4uq"
      }
    },
    {
      "cell_type": "code",
      "source": [
        "import random\n",
        "\n",
        "print(random.randint(1, 10))"
      ],
      "metadata": {
        "id": "kFnc7mPhy6_Z",
        "colab": {
          "base_uri": "https://localhost:8080/"
        },
        "outputId": "67a5bcbd-0e3b-4feb-a7c2-608c29399afc"
      },
      "execution_count": null,
      "outputs": [
        {
          "output_type": "stream",
          "name": "stdout",
          "text": [
            "6\n"
          ]
        }
      ]
    }
  ]
}