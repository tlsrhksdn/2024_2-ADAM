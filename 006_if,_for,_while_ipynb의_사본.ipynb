{
  "nbformat": 4,
  "nbformat_minor": 0,
  "metadata": {
    "colab": {
      "provenance": [],
      "include_colab_link": true
    },
    "kernelspec": {
      "name": "python3",
      "display_name": "Python 3"
    },
    "language_info": {
      "name": "python"
    }
  },
  "cells": [
    {
      "cell_type": "markdown",
      "metadata": {
        "id": "view-in-github",
        "colab_type": "text"
      },
      "source": [
        "<a href=\"https://colab.research.google.com/github/tlsrhksdn/2024_2-ADAM/blob/examples/006_if%2C_for%2C_while_ipynb%EC%9D%98_%EC%82%AC%EB%B3%B8.ipynb\" target=\"_parent\"><img src=\"https://colab.research.google.com/assets/colab-badge.svg\" alt=\"Open In Colab\"/></a>"
      ]
    },
    {
      "cell_type": "markdown",
      "source": [
        "# 006_if, for, while\n",
        "\n",
        "- 예시 답이 있는 문제는 답 작성 방법에 대한 간단한 예시이므로, 코드를 따라 적어보거나 읽어본 뒤 넘어가시면 됩니다.\n",
        "\n",
        "---"
      ],
      "metadata": {
        "id": "lxgz0fGKnwmV"
      }
    },
    {
      "cell_type": "markdown",
      "source": [
        "### 1) 간단한 조건문을 사용해보세요.\n",
        "- 변수 weather에 \"비\"를 할당하십시오.\n",
        "- weather가 \"비\"일 경우 \"우산을 챙기세요\"를 출력하십시오."
      ],
      "metadata": {
        "id": "ejzxPDxVlcmk"
      }
    },
    {
      "cell_type": "code",
      "source": [
        "# 예시 답\n",
        "weather = \"비\"\n",
        "if weather == \"비\":\n",
        "    print(\"우산을 챙기세요\")"
      ],
      "metadata": {
        "id": "xbUfSSzElb_6",
        "colab": {
          "base_uri": "https://localhost:8080/"
        },
        "outputId": "12b66387-e6c3-4696-9b3f-0df2944c5e35"
      },
      "execution_count": null,
      "outputs": [
        {
          "output_type": "stream",
          "name": "stdout",
          "text": [
            "우산을 챙기세요\n"
          ]
        }
      ]
    },
    {
      "cell_type": "markdown",
      "source": [
        "### 2) 간단한 조건문을 사용해보세요.\n",
        "- 변수 weather에 \"황사\"를 할당하십시오.\n",
        "- weather가 \"황사\"일 경우 \"마스크를 챙기세요\"를 출력하십시오."
      ],
      "metadata": {
        "id": "_kjnuUiPsb-K"
      }
    },
    {
      "cell_type": "code",
      "source": [
        "weather = \"황사\"\n",
        "if weather == \"황사\":\n",
        "    print(\"마스크를 챙기세요\")"
      ],
      "metadata": {
        "id": "-rsAQW81satf"
      },
      "execution_count": null,
      "outputs": []
    },
    {
      "cell_type": "markdown",
      "source": [
        "### 3) 다양한 조건을 사용한 프로그램을 만들어보세요.\n",
        "- 변수 weather에 \"눈\"을 할당하십시오.\n",
        "- weather가 \"비\"일 경우 \"우산을 챙기세요\", \"눈\"일 경우 \"장갑을 챙기세요\"를 출력하십시오."
      ],
      "metadata": {
        "id": "_NR5yC1psdib"
      }
    },
    {
      "cell_type": "code",
      "source": [
        "weather = \"눈\"\n",
        "if weather == \"비\":\n",
        "    print(\"우산을 챙기세요\")\n",
        "elif weather == \"눈\":\n",
        "    print(\"장갑을 챙기세요\")"
      ],
      "metadata": {
        "id": "kaIRMj9Msdic"
      },
      "execution_count": null,
      "outputs": []
    },
    {
      "cell_type": "markdown",
      "source": [
        "### 4) else를 포함한 조건문을 작성해보세요.\n",
        "- 변수 weather에 \"맑음\"을 할당하십시오.\n",
        "- weather가 \"비\" 또는 \"눈\"일 경우 \"우산을 챙기세요\", 그렇지 않을 경우 \"준비물이 필요 없어요\"를 출력하십시오."
      ],
      "metadata": {
        "id": "HPU4__MzsdxI"
      }
    },
    {
      "cell_type": "code",
      "source": [
        "weather = \"맑음\"\n",
        "if weather == \"비\" or weather == \"눈\":\n",
        "    print(\"우산을 챙기세요\")\n",
        "else:\n",
        "    print(\"준비물이 필요 없어요\")"
      ],
      "metadata": {
        "id": "GbA3cITqsdxJ"
      },
      "execution_count": null,
      "outputs": []
    },
    {
      "cell_type": "markdown",
      "source": [
        "### 5) 사용자 입력을 받는 프로그램을 만들어보세요.\n",
        "- input 함수를 사용하여 사용자에게 \"오늘 날씨는 어때요?\"를 물어보고 결과를 weather 변수에 저장하십시오.\n",
        "- weather가 \"비\"일 경우 \"우산을 챙기세요\"를 출력하십시오."
      ],
      "metadata": {
        "id": "nA28xq4lsdxJ"
      }
    },
    {
      "cell_type": "code",
      "source": [
        "weather = input(\"오늘 날씨는 어때요?\")\n",
        "if weather == \"비\":\n",
        "    print(\"우산을 챙기세요\")"
      ],
      "metadata": {
        "id": "IqS6PzRfsdxK"
      },
      "execution_count": null,
      "outputs": []
    },
    {
      "cell_type": "markdown",
      "source": [
        "### 6) 기온에 따른 다양한 출력을 하는 프로그램을 만들어보세요.\n",
        "- 변수 temp에 정수 20을 할당하십시오.\n",
        "- 30도 이상이면 \"너무 더워요\", 10도 이상 30도 미만이면 \"괜찮은 날씨에요\", 0도 - 이상 10도 미만이면 \"외투를 챙기세요\", 0도 미만이면 \"너무 추워요\"를 출력하십시오."
      ],
      "metadata": {
        "id": "B_VqQ0C0seG5"
      }
    },
    {
      "cell_type": "code",
      "source": [
        "temp = 20\n",
        "if temp >= 30:\n",
        "    print(\"너무 더워요\")\n",
        "  elif temp >= 10 and temp < 30:\n",
        "      print(\"괜찮은 날씨에요\")\n",
        "\n",
        "  elif temp >= 0 and temp < 10:\n",
        "      print(\"외투를 챙기세요\")\n",
        "else:\n",
        "    print(\"너무 추워요\")"
      ],
      "metadata": {
        "id": "Mj0hNJosseG6"
      },
      "execution_count": null,
      "outputs": []
    },
    {
      "cell_type": "markdown",
      "source": [
        "### 7) for 반복문을 사용하여 1부터 5까지 출력하는 프로그램을 만들어보세요.\n",
        "- range 함수와 for 반복문을 사용하여 1부터 5까지의 숫자를 출력하십시오."
      ],
      "metadata": {
        "id": "OiKpcg2aseG7"
      }
    },
    {
      "cell_type": "code",
      "source": [
        "for i in range(1, 6):\n",
        "  print(i, end= \" \")"
      ],
      "metadata": {
        "id": "dR7lSJRqseG7",
        "colab": {
          "base_uri": "https://localhost:8080/"
        },
        "outputId": "1bcce90f-0f58-4f60-b2b2-031e727d96e9"
      },
      "execution_count": null,
      "outputs": [
        {
          "output_type": "stream",
          "name": "stdout",
          "text": [
            "1 2 3 4 5 "
          ]
        }
      ]
    },
    {
      "cell_type": "markdown",
      "source": [
        "### 8)  for 반복문과 리스트를 사용하여 각 요소를 출력하는 프로그램을 만들어보세요.\n",
        "- 리스트 fruits에 \"사과\", \"바나나\", \"체리\"를 저장하십시오.\n",
        "- for 반복문을 사용하여 fruits의 각 요소를 출력하십시오."
      ],
      "metadata": {
        "id": "Qy7_Uap9seG7"
      }
    },
    {
      "cell_type": "code",
      "source": [
        "fruits = [\"사과\", \"바나나\", \"체리\"]\n",
        "for fruit in fruits:\n",
        "    print(fruit)"
      ],
      "metadata": {
        "id": "RLcoDyaUseG8"
      },
      "execution_count": null,
      "outputs": []
    },
    {
      "cell_type": "markdown",
      "source": [
        "### 9) while 반복문을 사용하여 5번 \"커피가 준비되었습니다\"를 출력하는 프로그램을 만들어보세요.\n",
        "- 변수 number에 5를 할당하고, number가 1 이상일 동안 \"커피가 준비되었습니다\"를 - 출력한 후 number를 1 감소시키는 프로그램을 작성하십시오."
      ],
      "metadata": {
        "id": "s-7_ZxZJseG8"
      }
    },
    {
      "cell_type": "code",
      "source": [
        "# 예시 답\n",
        "number = 5\n",
        "while number > 0:\n",
        "    print(\"커피가 준비되었습니다\")\n",
        "    number -= 1"
      ],
      "metadata": {
        "id": "u49JGfM0seG8"
      },
      "execution_count": null,
      "outputs": []
    },
    {
      "cell_type": "markdown",
      "source": [
        "### 10) while 반복문을 사용하여 3번 \"잘못된 접근입니다!\"를 출력하는 프로그램을 만들어보세요."
      ],
      "metadata": {
        "id": "BjElXbpcsema"
      }
    },
    {
      "cell_type": "code",
      "source": [
        "i = 1\n",
        "while i <= 3:\n",
        "    print(\"잘못된 접근입니다!\")\n",
        "    i += 1"
      ],
      "metadata": {
        "id": "JIXShNZdsema"
      },
      "execution_count": null,
      "outputs": []
    },
    {
      "cell_type": "markdown",
      "source": [
        "### 11) while 문과 input을 사용하여 커피 주문자를 확인하는 프로그램을 만들어보세요.\n",
        "- 변수 customer에 \"로키\"를, 변수 person에 \"Unknown\"을 할당하십시오.\n",
        "- \"로키, 커피가 준비 되었습니다\"를 출력하고, \"이름이 어떻게 되세요?\"를 물은 후 입력받은 이름이 customer와 같으면 종료하는 프로그램을 작성하십시오."
      ],
      "metadata": {
        "id": "JObjKkXXsema"
      }
    },
    {
      "cell_type": "code",
      "source": [
        "customer = \"로키\"\n",
        "person = \"Unknown\"\n",
        "while person != customer:\n",
        "    print(\"이름이 어떻게 되세요?\")\n",
        "    person = input()\n",
        "    print(\"커피가 준비 되었습니다\")"
      ],
      "metadata": {
        "id": "IDyJBqXSsemb"
      },
      "execution_count": null,
      "outputs": []
    },
    {
      "cell_type": "markdown",
      "source": [
        "### 12) break를 사용하여 특정 조건에서 반복문을 탈출하는 프로그램을 만들어보세요.\n",
        "- 변수 absent에 결석한 학생 번호 2, 5, 7 변수 no_book에 책을 가져오지 않은 학생 번호 11을 저장하십시오.\n",
        "- 5부터 15까지의 학생 중 absent에 포함된 학생을 건너뛰고, no_book에 포함된 학생이 나오면 \"오늘 수업 여기까지, X번은 교무실로 따라와\"를 출력하고 반복문을 탈출하는 프로그램을 작성하십시오."
      ],
      "metadata": {
        "id": "xRnpOU9osemb"
      }
    },
    {
      "cell_type": "code",
      "source": [
        "absent = [2, 5, 7]\n",
        "no_book = 11\n",
        "\n",
        "for i in range(5, 16):\n",
        "  if (i in absent):\n",
        "    continue\n",
        "  elif (i == no_book):\n",
        "    print(\"오늘 수업 여기까지, {}번은 교무실로 따라와\".format(i))\n",
        "    break\n"
      ],
      "metadata": {
        "id": "sLw5MEQrsemb",
        "colab": {
          "base_uri": "https://localhost:8080/"
        },
        "outputId": "79165d0a-4b51-4070-975f-cada9b6d5ddc"
      },
      "execution_count": null,
      "outputs": [
        {
          "output_type": "stream",
          "name": "stdout",
          "text": [
            "오늘 수업 여기까지, 11번은 교무실로 따라와\n"
          ]
        }
      ]
    },
    {
      "cell_type": "markdown",
      "source": [],
      "metadata": {
        "id": "rvU4wP36u-F4"
      }
    },
    {
      "cell_type": "markdown",
      "source": [
        "### 13) 한 줄 for 문을 사용하여 모든 이름을 소문자로 변환하는 프로그램을 만들어보세요.\n",
        "- 리스트 students에 [\"Iron man\", \"Thor\", \"I am groot\"]를 저장하십시오.\n",
        "- 한 줄 for 문을 사용하여 모든 이름을 소문자로 변환한 새로운 리스트를 생성하고 출력하십시오."
      ],
      "metadata": {
        "id": "Hx6rq7uSsemb"
      }
    },
    {
      "cell_type": "code",
      "source": [
        "students = [\"iron man\", \"thor\", \"i am groot\"]\n",
        "students = [i.lower() for i in students]\n",
        "print(students)"
      ],
      "metadata": {
        "id": "wJTlAKM2semb"
      },
      "execution_count": null,
      "outputs": []
    },
    {
      "cell_type": "markdown",
      "source": [
        "### 14) 숫자의 리스트에서 5보다 큰 숫자만 출력하는 프로그램을 만들어보세요.\n",
        "- 리스트 numbers에 1부터 10까지의 숫자를 저장하십시오.\n",
        "- for 반복문과 if 조건문을 사용하여 numbers에서 5보다 큰 숫자만 출력하십시오."
      ],
      "metadata": {
        "id": "QlVmRpfLsemb"
      }
    },
    {
      "cell_type": "code",
      "source": [
        "numbers = [1, 2, 3, 4, 5, 6, 7, 8, 9, 10]\n",
        "for i in numbers:\n",
        "    if i > 5:\n",
        "        print(i)"
      ],
      "metadata": {
        "id": "aOuGBrbusemb"
      },
      "execution_count": null,
      "outputs": []
    },
    {
      "cell_type": "markdown",
      "source": [
        "### 15) 주어진 수가 소수인지 판별하는 프로그램을 만들어보세요.\n",
        "- 변수 num에 29를 할당하십시오.\n",
        "- for와 if를 사용하여 num이 소수인지 판별하고 결과를 출력하십시오.\n",
        "- 스스로 하기 어렵다면, 구글 검색을 활용해보세요."
      ],
      "metadata": {
        "id": "q7bBz2wUsemb"
      }
    },
    {
      "cell_type": "code",
      "source": [
        "num = 29\n",
        "\n",
        "for i in range(2, num):\n",
        "    if num % i == 0:\n",
        "        print(\"소수가 아닙니다\")\n",
        "        break\n",
        "else:\n",
        "    print(\"소수입니다\")"
      ],
      "metadata": {
        "id": "DrGAX__Esemb",
        "colab": {
          "base_uri": "https://localhost:8080/"
        },
        "outputId": "f90e1641-0e9d-4e04-a4f8-20867b0349ef"
      },
      "execution_count": null,
      "outputs": [
        {
          "output_type": "stream",
          "name": "stdout",
          "text": [
            "소수입니다\n"
          ]
        }
      ]
    }
  ]
}