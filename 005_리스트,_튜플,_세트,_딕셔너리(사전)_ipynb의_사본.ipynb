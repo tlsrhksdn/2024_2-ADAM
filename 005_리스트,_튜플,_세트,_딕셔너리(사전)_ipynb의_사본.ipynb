{
  "nbformat": 4,
  "nbformat_minor": 0,
  "metadata": {
    "colab": {
      "provenance": [],
      "include_colab_link": true
    },
    "kernelspec": {
      "name": "python3",
      "display_name": "Python 3"
    },
    "language_info": {
      "name": "python"
    }
  },
  "cells": [
    {
      "cell_type": "markdown",
      "metadata": {
        "id": "view-in-github",
        "colab_type": "text"
      },
      "source": [
        "<a href=\"https://colab.research.google.com/github/tlsrhksdn/2024_2-ADAM/blob/examples/005_%EB%A6%AC%EC%8A%A4%ED%8A%B8%2C_%ED%8A%9C%ED%94%8C%2C_%EC%84%B8%ED%8A%B8%2C_%EB%94%95%EC%85%94%EB%84%88%EB%A6%AC(%EC%82%AC%EC%A0%84)_ipynb%EC%9D%98_%EC%82%AC%EB%B3%B8.ipynb\" target=\"_parent\"><img src=\"https://colab.research.google.com/assets/colab-badge.svg\" alt=\"Open In Colab\"/></a>"
      ]
    },
    {
      "cell_type": "markdown",
      "source": [
        "# 005_리스트, 튜플, 세트, 딕셔너리(사전)\n",
        "\n",
        "- 예시 답이 있는 문제는 답 작성 방법에 대한 간단한 예시이므로, 코드를 따라 적어보거나 읽어본 뒤 넘어가시면 됩니다.\n",
        "\n",
        "---"
      ],
      "metadata": {
        "id": "lxgz0fGKnwmV"
      }
    },
    {
      "cell_type": "markdown",
      "source": [
        "### 1) 리스트 생성 및 인덱스 사용해보기\n",
        "favorite_colors 리스트에 \"빨강\", \"파랑\", \"초록\"을 저장하세요.\n",
        "리스트의 두 번째 색상을 출력하세요."
      ],
      "metadata": {
        "id": "ejzxPDxVlcmk"
      }
    },
    {
      "cell_type": "code",
      "source": [
        "# 예시 답\n",
        "favorite_colors = [\"빨강\", \"파랑\", \"초록\"]\n",
        "print(favorite_colors[1])"
      ],
      "metadata": {
        "id": "xbUfSSzElb_6",
        "colab": {
          "base_uri": "https://localhost:8080/"
        },
        "outputId": "762bb0dd-693a-41dc-ac5f-9429c9245f14"
      },
      "execution_count": null,
      "outputs": [
        {
          "output_type": "stream",
          "name": "stdout",
          "text": [
            "파랑\n"
          ]
        }
      ]
    },
    {
      "cell_type": "markdown",
      "source": [
        "### 2) animals 리스트를 생성하고 \"사자\", \"호랑이\"를 저장하세요.\n",
        "\n",
        "리스트의 두번째 요소를 출력하십시오"
      ],
      "metadata": {
        "id": "TJDME9cMpKAI"
      }
    },
    {
      "cell_type": "code",
      "source": [
        "animals = [\"사자\", \"호랑이\"]\n",
        "print(animals[1])"
      ],
      "metadata": {
        "id": "XJz2xz8IpKAJ",
        "colab": {
          "base_uri": "https://localhost:8080/"
        },
        "outputId": "135ba3aa-3383-4e59-e37b-2bef2131e33c"
      },
      "execution_count": null,
      "outputs": [
        {
          "output_type": "stream",
          "name": "stdout",
          "text": [
            "호랑이\n"
          ]
        }
      ]
    },
    {
      "cell_type": "markdown",
      "source": [
        "### 3) 리스트에 요소 추가하기\n",
        "- numbers 리스트를 만들고 1, 2, 3을 저장하세요.\n",
        "- numbers 리스트에 4를 추가한 후 전체 리스트를 출력하세요."
      ],
      "metadata": {
        "id": "WUwP2hYNpKPT"
      }
    },
    {
      "cell_type": "code",
      "source": [
        "numbers = [1, 2, 3]\n",
        "numbers.append(4)\n",
        "print(numbers)"
      ],
      "metadata": {
        "id": "PF9Ske3NpKPT"
      },
      "execution_count": null,
      "outputs": []
    },
    {
      "cell_type": "markdown",
      "source": [
        "### 4) 리스트에서 요소 제거하기\n",
        "- fruits 리스트에 \"사과\", \"바나나\", \"딸기\"를 저장하세요.\n",
        "- \"바나나\"를 리스트에서 제거한 후 전체 리스트를 출력하세요."
      ],
      "metadata": {
        "id": "a5fs_nX6pKPU"
      }
    },
    {
      "cell_type": "code",
      "source": [
        "fruits = [\"사과\", \"바나나\", \"딸기\"]\n",
        "fruits.remove(\"바나나\")\n",
        "print(fruits)"
      ],
      "metadata": {
        "id": "6lyeUqUEpKPU"
      },
      "execution_count": null,
      "outputs": []
    },
    {
      "cell_type": "markdown",
      "source": [
        "### 5) 튜플의 기본 사용법 익히기\n",
        "- animals 튜플에 \"강아지\", \"고양이\", \"토끼\"를 저장하세요.\n",
        "- 첫 번째 동물을 출력하세요."
      ],
      "metadata": {
        "id": "4wZMP47fpKff"
      }
    },
    {
      "cell_type": "code",
      "source": [
        "animals = (\"강아지\", \"고양이\", \"토끼\")\n",
        "print(animals[0])"
      ],
      "metadata": {
        "id": "CBRgDbCgpKfg"
      },
      "execution_count": null,
      "outputs": []
    },
    {
      "cell_type": "markdown",
      "source": [
        "### 6) 사전(Dictionary) 생성 및 데이터 접근하기\n",
        "- book 사전에 `{'제목': '해리포터', '저자': 'J.K. 롤링', '출판연도': 1997}`을 저장하세요.\n",
        "- '제목'에 해당하는 값을 출력하세요."
      ],
      "metadata": {
        "id": "Ra1I2kedpKfg"
      }
    },
    {
      "cell_type": "code",
      "source": [
        "book = {'제목' : '해리포터', '저자' : 'J.K. 롤링', '출판연도' : 1997}\n",
        "print(book['제목'])"
      ],
      "metadata": {
        "id": "hOlo1jQmpKfg"
      },
      "execution_count": null,
      "outputs": []
    },
    {
      "cell_type": "markdown",
      "source": [
        "### 7) 사전에서의 데이터 추가와 삭제\n",
        "- person 사전에 `'이름': '홍길동'`, `'나이': 30`을 저장하세요.\n",
        "- '직업'을 '도적'으로 추가하고, '나이'를 삭제한 후 전체 사전을 출력하세요."
      ],
      "metadata": {
        "id": "Fg7jG7znpKfh"
      }
    },
    {
      "cell_type": "code",
      "source": [
        "person = {'이름' : '홍길동', '나이' : 30}\n",
        "person['직업'] = '도적'\n",
        "del person['나이']\n",
        "print(person)"
      ],
      "metadata": {
        "id": "3iRmM3fppKfh"
      },
      "execution_count": null,
      "outputs": []
    },
    {
      "cell_type": "markdown",
      "source": [
        "### 8) 셋(Set)의 기본 사용법 익히기\n",
        "- unique_numbers 셋에 1, 2, 3, 3, 4를 저장하세요.\n",
        "- unique_numbers 셋을 출력하여 중복 제거된 결과를 확인하세요."
      ],
      "metadata": {
        "id": "Xc0TBeTGpKfi"
      }
    },
    {
      "cell_type": "code",
      "source": [
        "unique_numbers = {1, 2, 3, 3, 4 }\n",
        "print(unique_numbers)"
      ],
      "metadata": {
        "id": "7giVMpZlpKfi",
        "colab": {
          "base_uri": "https://localhost:8080/"
        },
        "outputId": "b1258565-a7a3-4e5d-c5f7-6d46005b0436"
      },
      "execution_count": null,
      "outputs": [
        {
          "output_type": "stream",
          "name": "stdout",
          "text": [
            "{1, 2, 3, 4}\n"
          ]
        }
      ]
    },
    {
      "cell_type": "markdown",
      "source": [
        "### 9) 셋에서 요소 추가 및 제거하기\n",
        "- foods 셋에 \"김치\", \"된장찌개\", \"비빔밥\"을 저장하세요.\n",
        "- \"라면\"을 추가하고 \"김치\"를 제거한 후 셋을 출력하세요."
      ],
      "metadata": {
        "id": "T-HjL5ropK80"
      }
    },
    {
      "cell_type": "code",
      "source": [
        "foods = {\"김치\", \"된장찌개\", \"비빔밥\"}\n",
        "foods.add(\"라면\")\n",
        "foods.remove(\"김치\")\n",
        "print(foods)"
      ],
      "metadata": {
        "id": "PdDDpCU5pK80",
        "colab": {
          "base_uri": "https://localhost:8080/",
          "height": 193
        },
        "outputId": "13039448-b7c9-412f-ffd6-a57dda798812"
      },
      "execution_count": null,
      "outputs": [
        {
          "output_type": "error",
          "ename": "AttributeError",
          "evalue": "'tuple' object has no attribute 'add'",
          "traceback": [
            "\u001b[0;31m---------------------------------------------------------------------------\u001b[0m",
            "\u001b[0;31mAttributeError\u001b[0m                            Traceback (most recent call last)",
            "\u001b[0;32m<ipython-input-4-1bdcae058c6c>\u001b[0m in \u001b[0;36m<cell line: 2>\u001b[0;34m()\u001b[0m\n\u001b[1;32m      1\u001b[0m \u001b[0mfoods\u001b[0m \u001b[0;34m=\u001b[0m \u001b[0;34m(\u001b[0m\u001b[0;34m\"김치\"\u001b[0m\u001b[0;34m,\u001b[0m \u001b[0;34m\"된장찌개\"\u001b[0m\u001b[0;34m,\u001b[0m \u001b[0;34m\"비빔밥\"\u001b[0m\u001b[0;34m)\u001b[0m\u001b[0;34m\u001b[0m\u001b[0;34m\u001b[0m\u001b[0m\n\u001b[0;32m----> 2\u001b[0;31m \u001b[0mfoods\u001b[0m\u001b[0;34m.\u001b[0m\u001b[0madd\u001b[0m\u001b[0;34m(\u001b[0m\u001b[0;34m\"라면\"\u001b[0m\u001b[0;34m)\u001b[0m\u001b[0;34m\u001b[0m\u001b[0;34m\u001b[0m\u001b[0m\n\u001b[0m\u001b[1;32m      3\u001b[0m \u001b[0mfoods\u001b[0m\u001b[0;34m.\u001b[0m\u001b[0mremove\u001b[0m\u001b[0;34m(\u001b[0m\u001b[0;34m\"김치\"\u001b[0m\u001b[0;34m)\u001b[0m\u001b[0;34m\u001b[0m\u001b[0;34m\u001b[0m\u001b[0m\n\u001b[1;32m      4\u001b[0m \u001b[0mprint\u001b[0m\u001b[0;34m(\u001b[0m\u001b[0mfoods\u001b[0m\u001b[0;34m)\u001b[0m\u001b[0;34m\u001b[0m\u001b[0;34m\u001b[0m\u001b[0m\n",
            "\u001b[0;31mAttributeError\u001b[0m: 'tuple' object has no attribute 'add'"
          ]
        }
      ]
    },
    {
      "cell_type": "markdown",
      "source": [
        "### 10) 리스트와 셋의 자료형 변환\n",
        "- numbers 리스트에 1, 2, 3, 3, 4를 저장하세요.\n",
        "- numbers를 셋으로 변환하여 중복을 제거한 후 다시 리스트로 변환하세요."
      ],
      "metadata": {
        "id": "SYEoy8ispK80"
      }
    },
    {
      "cell_type": "code",
      "source": [
        "# 예시 답\n",
        "numbers = [1, 2, 3, 3, 3, 4, 4, 5, 5, 5, 5]\n",
        "numbers_set = set(numbers)\n",
        "numbers = list(numbers_set)\n",
        "print(numbers)"
      ],
      "metadata": {
        "colab": {
          "base_uri": "https://localhost:8080/"
        },
        "id": "Ozrx65W4pK80",
        "outputId": "e23990e7-3c57-4109-eecc-f8cf6b49e58c"
      },
      "execution_count": null,
      "outputs": [
        {
          "output_type": "stream",
          "name": "stdout",
          "text": [
            "[1, 2, 3, 4, 5]\n"
          ]
        }
      ]
    },
    {
      "cell_type": "markdown",
      "source": [
        "### 11) 사전에서 keys와 values 출력하기\n",
        "- student 사전에 {'이름': '이순신', '학년': 3, '전공': '역사학'}을 저장하세요.\n",
        "- 사전의 keys와 values를 각각 출력하세요.\n"
      ],
      "metadata": {
        "id": "ITX55g6spK80"
      }
    },
    {
      "cell_type": "code",
      "source": [
        "student = {'이름' : '이순신', '학년' : 3, '전공' : '역사학'}\n",
        "print(student.keys())\n",
        "print(student.values())"
      ],
      "metadata": {
        "id": "cI630KkgpK81",
        "colab": {
          "base_uri": "https://localhost:8080/"
        },
        "outputId": "2e646f4e-ea73-4b10-b22f-5e20b3ab66f5"
      },
      "execution_count": null,
      "outputs": [
        {
          "output_type": "stream",
          "name": "stdout",
          "text": [
            "dict_keys(['이름', '학년', '전공'])\n",
            "dict_values(['이순신', 3, '역사학'])\n"
          ]
        }
      ]
    },
    {
      "cell_type": "markdown",
      "source": [
        "### 12) 리스트 정렬\n",
        "- cities 리스트에 \"서울\", \"부산\", \"인천\"을 저장하세요.\n",
        "- 리스트를 알파벳 순으로 정렬한 결과를 출력하세요."
      ],
      "metadata": {
        "id": "v-U9lXhEpK81"
      }
    },
    {
      "cell_type": "code",
      "source": [
        "# 예시 답\n",
        "cities = [\"서울\", \"부산\", \"인천\"]\n",
        "cities.sort()\n",
        "print(cities)"
      ],
      "metadata": {
        "colab": {
          "base_uri": "https://localhost:8080/"
        },
        "id": "5Ed13-oxpK81",
        "outputId": "6a119170-6593-4981-f678-9d0e7318851f"
      },
      "execution_count": null,
      "outputs": [
        {
          "output_type": "stream",
          "name": "stdout",
          "text": [
            "['부산', '서울', '인천']\n"
          ]
        }
      ]
    },
    {
      "cell_type": "markdown",
      "source": [
        "### 13) 리스트 정렬과 역순 정렬\n",
        "- cities 리스트에 \"서울\", \"부산\", \"인천\", \"세종\"을 저장하세요.\n",
        "- 리스트를 알파벳 순으로 정렬하고, 그 다음에 역순으로 정렬한 후 결과를 각각 출력하세요."
      ],
      "metadata": {
        "id": "4w0JHscppK81"
      }
    },
    {
      "cell_type": "code",
      "source": [
        "cities = [\"서울\", \"부산\", \"인천\", \"세종\"]\n",
        "cities.sort()\n",
        "print(cities)\n",
        "cities.reverse()\n",
        "print(cities)"
      ],
      "metadata": {
        "id": "TNKPM9MQpK81",
        "colab": {
          "base_uri": "https://localhost:8080/"
        },
        "outputId": "177b38e2-23d7-40a4-d603-b13aabdee332"
      },
      "execution_count": null,
      "outputs": [
        {
          "output_type": "stream",
          "name": "stdout",
          "text": [
            "['부산', '서울', '세종', '인천']\n",
            "['인천', '세종', '서울', '부산']\n"
          ]
        }
      ]
    },
    {
      "cell_type": "markdown",
      "source": [
        "### 14) 셋의 교집합과 합집합 찾기\n",
        "- set1에 1, 2, 3을, set2에 2, 3, 4를 저장하세요.\n",
        "- set1과 set2의 교집합과 합집합을 각각 출력하세요."
      ],
      "metadata": {
        "id": "mVG_qYzwpK81"
      }
    },
    {
      "cell_type": "code",
      "source": [
        "set1 = (1, 2, 3)\n",
        "set2 = (2, 3, 4)\n",
        "print(set1 & set2)\n",
        "print(set1 | set2)"
      ],
      "metadata": {
        "id": "mRmP1O2-pK82"
      },
      "execution_count": null,
      "outputs": []
    },
    {
      "cell_type": "markdown",
      "source": [
        "### 15) 리스트의 길이와 요소 접근\n",
        "- snacks 리스트에 \"초콜릿\", \"사탕\", \"과자\"를 저장하세요.\n",
        "- 리스트의 길이와 마지막 요소를 출력하세요."
      ],
      "metadata": {
        "id": "-2Uc_XdzpK82"
      }
    },
    {
      "cell_type": "code",
      "source": [
        "snacks = [\"초콜릿\", \"사탕\", \"과자\"]\n",
        "print(len(snacks))\n",
        "snacks[-1]"
      ],
      "metadata": {
        "id": "r7XuaRPspK82"
      },
      "execution_count": null,
      "outputs": []
    },
    {
      "cell_type": "markdown",
      "source": [
        "### 16) 사전의 모든 데이터 삭제\n",
        "- inventory 사전에 {\"사과\": 30, \"바나나\": 15, \"오렌지\": 10}을 저장하세요.\n",
        "- 사전의 모든 데이터를 삭제하고, 출력하여 비어 있는지 확인하세요."
      ],
      "metadata": {
        "id": "xHT5nJ9epK82"
      }
    },
    {
      "cell_type": "code",
      "source": [
        "inventory = {\"사과\" : 30, \"바나나\" : 15, \"오렌지\" : 10}\n",
        "inventory.clear()\n",
        "print(inventory)"
      ],
      "metadata": {
        "id": "xKGgc-VHpK82",
        "colab": {
          "base_uri": "https://localhost:8080/"
        },
        "outputId": "7f10481c-ff8f-4952-f502-6a830040314a"
      },
      "execution_count": null,
      "outputs": [
        {
          "output_type": "stream",
          "name": "stdout",
          "text": [
            "{}\n"
          ]
        }
      ]
    },
    {
      "cell_type": "markdown",
      "source": [
        "### 17) 튜플과 리스트 변환\n",
        "- data 튜플에 1, 2, 3, 4, 5를 저장하세요.\n",
        "- data 튜플을 리스트로 변환하고, 리스트에 6을 추가한 후 튜플로 다시 변환하세요.\n",
        "- data를 출력하세요"
      ],
      "metadata": {
        "id": "hFwszTrErxfi"
      }
    },
    {
      "cell_type": "code",
      "source": [
        "data = {1, 2, 3, 4, 5}\n",
        "data = list(data)\n",
        "data.append(6)\n",
        "data = tuple(data)\n",
        "print(data)"
      ],
      "metadata": {
        "id": "1wliYB4Urxfy"
      },
      "execution_count": null,
      "outputs": []
    },
    {
      "cell_type": "markdown",
      "source": [
        "### 18) 사전의 key, value 쌍으로 출력\n",
        "- person 사전에 {'이름': '김철수', '나이': 25, '직업': '개발자'}를 저장하세요.\n",
        "- 사전의 key와 value를 쌍으로 출력하세요. (출력 예시: `\"이름: 김철수\"`)"
      ],
      "metadata": {
        "id": "Bl267jtArxwC"
      }
    },
    {
      "cell_type": "code",
      "source": [
        "person = {'이름' : '김철수', '나이' : 25, '직업' : '개발자'}\n",
        "print(person.items())"
      ],
      "metadata": {
        "id": "Rd9Jv2eYrxwC",
        "colab": {
          "base_uri": "https://localhost:8080/"
        },
        "outputId": "b48e3686-280f-49e9-d99c-54b6f35bb703"
      },
      "execution_count": null,
      "outputs": [
        {
          "output_type": "stream",
          "name": "stdout",
          "text": [
            "dict_items([('이름', '김철수'), ('나이', 25), ('직업', '개발자')])\n"
          ]
        }
      ]
    }
  ]
}