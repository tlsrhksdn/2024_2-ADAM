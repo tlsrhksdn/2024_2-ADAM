{
  "nbformat": 4,
  "nbformat_minor": 0,
  "metadata": {
    "colab": {
      "provenance": [],
      "include_colab_link": true
    },
    "kernelspec": {
      "name": "python3",
      "display_name": "Python 3"
    },
    "language_info": {
      "name": "python"
    }
  },
  "cells": [
    {
      "cell_type": "markdown",
      "metadata": {
        "id": "view-in-github",
        "colab_type": "text"
      },
      "source": [
        "<a href=\"https://colab.research.google.com/github/tlsrhksdn/2024_2-ADAM/blob/main/009_%ED%81%B4%EB%9E%98%EC%8A%A4_%EC%8D%A8%EB%B3%B4%EA%B8%B0_ipynb%EC%9D%98_%EC%82%AC%EB%B3%B8.ipynb\" target=\"_parent\"><img src=\"https://colab.research.google.com/assets/colab-badge.svg\" alt=\"Open In Colab\"/></a>"
      ]
    },
    {
      "cell_type": "markdown",
      "source": [
        "# 009_클래스 써보기\n",
        "\n",
        "- 예시 답이 있는 문제는 답 작성 방법에 대한 간단한 예시이므로, 코드를 따라 적어보거나 읽어본 뒤 넘어가시면 됩니다.\n",
        "\n",
        "---"
      ],
      "metadata": {
        "id": "lxgz0fGKnwmV"
      }
    },
    {
      "cell_type": "markdown",
      "source": [
        "### 1) Marine 클래스를 정의하고, 초기화하는 코드를 작성하세요.\n",
        "- Marine 클래스는 name, hp, attack_power 세 멤버 변수를 가집니다.\n",
        "생성자를 통해 이 멤버 변수들을 초기화하세요.\n",
        "- 객체가 생성될 때, 이름, 체력, 공격력을 출력하는 코드를 추가하세요."
      ],
      "metadata": {
        "id": "ejzxPDxVlcmk"
      }
    },
    {
      "cell_type": "code",
      "source": [
        "# 예시 답\n",
        "class Marine:\n",
        "    def __init__(self, name, hp, attack_power):\n",
        "        self.name = name\n",
        "        self.hp = hp\n",
        "        self.attack_power = attack_power\n",
        "        print(f\"{self.name} 유닛이 생성되었습니다.\")\n",
        "        print(f\"체력 {self.hp}, 공격력 {self.attack_power}\")\n"
      ],
      "metadata": {
        "id": "xbUfSSzElb_6"
      },
      "execution_count": null,
      "outputs": []
    },
    {
      "cell_type": "code",
      "source": [
        "# 예시 답\n",
        "marine1 = Marine(\"전투병\", 50, 15)"
      ],
      "metadata": {
        "colab": {
          "base_uri": "https://localhost:8080/"
        },
        "id": "nTkUQ2DJIn2W",
        "outputId": "c4450dbe-af8a-4a61-a1a5-f9c6f580169e"
      },
      "execution_count": null,
      "outputs": [
        {
          "output_type": "stream",
          "name": "stdout",
          "text": [
            "전투병 유닛이 생성되었습니다.\n",
            "체력 50, 공격력 15\n"
          ]
        }
      ]
    },
    {
      "cell_type": "markdown",
      "source": [
        "### 2) Tank 클래스를 정의하고, 초기화하는 코드를 작성하세요.\n",
        "- Tank 클래스는 name, hp, attack_power, mode 네 멤버 변수를 가집니다.\n",
        "- 생성자를 통해 이름, 체력, 공격력을 초기화하고, mode는 기본적으로 \"Standard\"로 설정하세요.\n",
        "- 객체가 생성될 때, 해당 정보를 출력하세요."
      ],
      "metadata": {
        "id": "7FyslChBIuSL"
      }
    },
    {
      "cell_type": "code",
      "source": [
        "class Tank:\n",
        "  def __init__(self, name, hp, attack_power, mode):\n",
        "    self.name = name\n",
        "    self.hp = hp\n",
        "    self.attack_power = attack_power\n",
        "    self.mode = \"Standard\"\n",
        "    print(f\"{self.name} 유닛이 생성되었습니다.\")\n",
        "    print(f\"체력 {self.hp}, 공격력 {self.attack_power}\")\n",
        "    print(f\"모드 {self.mode}\")"
      ],
      "metadata": {
        "id": "4hqdOqoEIttD"
      },
      "execution_count": null,
      "outputs": []
    },
    {
      "cell_type": "code",
      "source": [
        "tank1 = Tank(\"탱크\", 100, 20, \"Standard\")"
      ],
      "metadata": {
        "id": "2BNpscTvJDz_",
        "colab": {
          "base_uri": "https://localhost:8080/"
        },
        "outputId": "af0be082-bdce-45e2-a003-bda70b42d945"
      },
      "execution_count": null,
      "outputs": [
        {
          "output_type": "stream",
          "name": "stdout",
          "text": [
            "탱크 유닛이 생성되었습니다.\n",
            "체력 100, 공격력 20\n",
            "모드 Standard\n"
          ]
        }
      ]
    }
  ]
}