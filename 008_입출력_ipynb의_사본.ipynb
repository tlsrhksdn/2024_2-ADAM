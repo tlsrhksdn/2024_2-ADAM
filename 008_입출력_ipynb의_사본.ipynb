{
  "nbformat": 4,
  "nbformat_minor": 0,
  "metadata": {
    "colab": {
      "provenance": [],
      "include_colab_link": true
    },
    "kernelspec": {
      "name": "python3",
      "display_name": "Python 3"
    },
    "language_info": {
      "name": "python"
    }
  },
  "cells": [
    {
      "cell_type": "markdown",
      "metadata": {
        "id": "view-in-github",
        "colab_type": "text"
      },
      "source": [
        "<a href=\"https://colab.research.google.com/github/tlsrhksdn/2024_2-ADAM/blob/examples/008_%EC%9E%85%EC%B6%9C%EB%A0%A5_ipynb%EC%9D%98_%EC%82%AC%EB%B3%B8.ipynb\" target=\"_parent\"><img src=\"https://colab.research.google.com/assets/colab-badge.svg\" alt=\"Open In Colab\"/></a>"
      ]
    },
    {
      "cell_type": "markdown",
      "source": [
        "# 008_입출력\n",
        "\n",
        "- 예시 답이 있는 문제는 답 작성 방법에 대한 간단한 예시이므로, 코드를 따라 적어보거나 읽어본 뒤 넘어가시면 됩니다.\n",
        "\n",
        "---"
      ],
      "metadata": {
        "id": "lxgz0fGKnwmV"
      }
    },
    {
      "cell_type": "markdown",
      "source": [
        "### 1) 'Python'과 'Java'를 쉼표로 구분하여 출력하세요.\n",
        "- print 함수와 sep 파라미터를 사용하세요.\n",
        "- sep 파라미터에 쉼표(,)를 지정하여 두 문자열 사이에 쉼표가 출력되도록 설정하세요."
      ],
      "metadata": {
        "id": "ejzxPDxVlcmk"
      }
    },
    {
      "cell_type": "code",
      "source": [
        "# 예시 답\n",
        "print(\"Python\", \"Java\", sep=\",\")"
      ],
      "metadata": {
        "colab": {
          "base_uri": "https://localhost:8080/"
        },
        "id": "xbUfSSzElb_6",
        "outputId": "fb6de751-e93e-4175-f95e-f6988c5326fd"
      },
      "execution_count": null,
      "outputs": [
        {
          "output_type": "stream",
          "name": "stdout",
          "text": [
            "Python,Java\n"
          ]
        }
      ]
    },
    {
      "cell_type": "markdown",
      "source": [
        "### 2) 'Python'과 'Java'를 ' vs '로 구분하여 출력하세요.\n",
        "- print 함수와 sep 파라미터를 사용하여 'Python vs Java'가 출력되도록 하세요.\n",
        "- sep 파라미터에 문자열 ' vs '를 지정하세요."
      ],
      "metadata": {
        "id": "A_kFbNuHFmAS"
      }
    },
    {
      "cell_type": "code",
      "source": [
        "print(\"Python\", \"Java\", sep = \" vs \")"
      ],
      "metadata": {
        "id": "MdFgHLnMFmAk",
        "colab": {
          "base_uri": "https://localhost:8080/"
        },
        "outputId": "6c7e02ff-dd73-4c62-b2d9-b0f6fc4387a4"
      },
      "execution_count": null,
      "outputs": [
        {
          "output_type": "stream",
          "name": "stdout",
          "text": [
            "Python vs Java\n"
          ]
        }
      ]
    },
    {
      "cell_type": "markdown",
      "source": [
        "### 3) 'Python'과 'Java' 사이에 쉼표를 넣고 문장의 끝에 물음표를 추가하여 출력하세요.\n",
        "- print 함수를 사용하고, sep와 end 파라미터를 설정하세요.\n",
        "- sep에 쉼표(,)를, end에 물음표(?)를 지정하세요."
      ],
      "metadata": {
        "id": "581UH9tGFmZV"
      }
    },
    {
      "cell_type": "code",
      "source": [
        "print(\"Python\", \"Java\", sep = \",\", end = \"?\")"
      ],
      "metadata": {
        "id": "_12vcGWRFmZW",
        "colab": {
          "base_uri": "https://localhost:8080/"
        },
        "outputId": "b88327be-a2e9-4886-f11e-8b995e859027"
      },
      "execution_count": null,
      "outputs": [
        {
          "output_type": "stream",
          "name": "stdout",
          "text": [
            "Python,Java?"
          ]
        }
      ]
    },
    {
      "cell_type": "markdown",
      "source": [
        "### 4) 입력받은 값을 출력하세요.\n",
        "input 함수를 사용하여 사용자로부터 값을 입력받으세요.\n",
        "입력받은 값을 print 함수를 사용하여 출력하세요."
      ],
      "metadata": {
        "id": "qQWIHp1bFmZW"
      }
    },
    {
      "cell_type": "code",
      "source": [
        "x = input(\"값을 입력해주세요: \")\n",
        "print(x)"
      ],
      "metadata": {
        "id": "x-rexnCTFmZX"
      },
      "execution_count": null,
      "outputs": []
    },
    {
      "cell_type": "markdown",
      "source": [
        "### 5) 다음 조건에 따라 변수를 생성하고 출력하세요.\n",
        "- destination 변수에 \"파리\"를, days 변수에 5(일)을 할당하세요.\n",
        "- print 함수를 사용하여 \"내 여행지는 X이고, 여행 기간은 Y일입니다.\"라는 문장을 출력하세요."
      ],
      "metadata": {
        "id": "Fwi1Dvv8FmuH"
      }
    },
    {
      "cell_type": "code",
      "source": [
        "destination=\"파리\"\n",
        "days = 5\n",
        "\n",
        "print(f\"내 여행지는 {destination}이고, 여행 기간은 {days}일입니다.\")"
      ],
      "metadata": {
        "id": "T-yJmonSFmuI",
        "colab": {
          "base_uri": "https://localhost:8080/"
        },
        "outputId": "b52956d6-16e1-483c-bc1a-e3f576afac20"
      },
      "execution_count": null,
      "outputs": [
        {
          "output_type": "stream",
          "name": "stdout",
          "text": [
            "내 여행지는 파리이고, 여행 기간은 5일입니다.\n"
          ]
        }
      ]
    },
    {
      "cell_type": "markdown",
      "source": [
        "### 6) 1부터 20까지의 숫자를 0을 포함한 세 자리 숫자로 출력하세요.\n",
        "- range 함수를 사용하여 1부터 20까지의 숫자를 생성하세요.\n",
        "- zfill 메서드를 사용하여 각 숫자를 0을 포함한 세 자리 형태로 출력하세요."
      ],
      "metadata": {
        "id": "K2VYr9RvFmuI"
      }
    },
    {
      "cell_type": "code",
      "source": [
        "numbers = [n for n in range(1, 21)]\n",
        "\n",
        "for n in numbers:\n",
        "    print(str(n).zfill(3))"
      ],
      "metadata": {
        "id": "uK3ObVyhFmuJ",
        "colab": {
          "base_uri": "https://localhost:8080/"
        },
        "outputId": "07feb0d3-c9ca-49dc-c5a0-44ec3b41a23c"
      },
      "execution_count": null,
      "outputs": [
        {
          "output_type": "stream",
          "name": "stdout",
          "text": [
            "001\n",
            "002\n",
            "003\n",
            "004\n",
            "005\n",
            "006\n",
            "007\n",
            "008\n",
            "009\n",
            "010\n",
            "011\n",
            "012\n",
            "013\n",
            "014\n",
            "015\n",
            "016\n",
            "017\n",
            "018\n",
            "019\n",
            "020\n"
          ]
        }
      ]
    },
    {
      "cell_type": "markdown",
      "source": [
        "### 7) 숫자 100,000,000,000을 출력할 때, 3자리 마다 콤마를 찍어 출력하세요.\n",
        "- print 함수와 format 메서드를 사용하세요.\n",
        "- 콤마를 사용하여 숫자를 포맷하세요."
      ],
      "metadata": {
        "id": "wbj6gdvFFmuK"
      }
    },
    {
      "cell_type": "code",
      "source": [
        "print(\"{:,}\".format(100000000000))"
      ],
      "metadata": {
        "id": "C60GHWwdFmuK",
        "colab": {
          "base_uri": "https://localhost:8080/"
        },
        "outputId": "e310d9a7-ee6d-4ea4-a39e-b52eb35fd10e"
      },
      "execution_count": null,
      "outputs": [
        {
          "output_type": "stream",
          "name": "stdout",
          "text": [
            "100,000,000,000\n"
          ]
        }
      ]
    },
    {
      "cell_type": "markdown",
      "source": [
        "### 8) 텍스트 파일을 생성하고 '파이썬 공부는 재미있습니다.'라는 문장을 파일에 쓰세요.\n",
        "- open 함수를 사용하여 'study.txt' 파일을 쓰기 모드로 엽니다.\n",
        "- write 메서드를 사용하여 파일에 문자를 씁니다.\n",
        "파일을 닫으세요."
      ],
      "metadata": {
        "id": "cnjBTaoWFmuK"
      }
    },
    {
      "cell_type": "code",
      "source": [
        "open(\"study.txt\", \"w\").write(\"파이썬 공부는 재미있습니다.\")"
      ],
      "metadata": {
        "id": "mOef7mxfFmuL",
        "colab": {
          "base_uri": "https://localhost:8080/"
        },
        "outputId": "874cb403-bac8-4987-a390-a5c54690f872"
      },
      "execution_count": null,
      "outputs": [
        {
          "output_type": "execute_result",
          "data": {
            "text/plain": [
              "15"
            ]
          },
          "metadata": {},
          "execution_count": 7
        }
      ]
    },
    {
      "cell_type": "markdown",
      "source": [
        "### 9) 앞서 생성한 'study.txt' 파일을 읽어서 그 내용을 출력하세요.\n",
        "- open 함수를 사용하여 'study.txt' 파일을 읽기 모드로 엽니다.\n",
        "- read 메서드를 사용하여 파일 내용을 읽습니다.\n",
        "파일을 닫으세요."
      ],
      "metadata": {
        "id": "A8A0QDVFFnY3"
      }
    },
    {
      "cell_type": "code",
      "source": [
        "open(\"study.txt\", \"r\").read()"
      ],
      "metadata": {
        "id": "mh660rV6FnY3",
        "colab": {
          "base_uri": "https://localhost:8080/",
          "height": 35
        },
        "outputId": "026b755d-caa0-4480-a862-ec07d8d14d78"
      },
      "execution_count": null,
      "outputs": [
        {
          "output_type": "execute_result",
          "data": {
            "text/plain": [
              "'파이썬 공부는 재미있습니다.'"
            ],
            "application/vnd.google.colaboratory.intrinsic+json": {
              "type": "string"
            }
          },
          "metadata": {},
          "execution_count": 8
        }
      ]
    },
    {
      "cell_type": "markdown",
      "source": [
        "### 10) with 구문을 사용하여 'study.txt' 파일을 열고, 파일 내용을 출력하세요.\n",
        "- with 구문과 open 함수를 사용하여 파일을 읽기 모드로 엽니다.\n",
        "- read 메서드를 사용하여 파일 내용을 읽고 출력하세요."
      ],
      "metadata": {
        "id": "9gA095bIFnY4"
      }
    },
    {
      "cell_type": "code",
      "source": [
        "with open(\"study.txt\", \"r\") as f:\n",
        "    print(f.read())"
      ],
      "metadata": {
        "id": "AxEm23tqFnY4",
        "colab": {
          "base_uri": "https://localhost:8080/"
        },
        "outputId": "534490dd-7ea7-4900-82f2-b38a08e09b8a"
      },
      "execution_count": null,
      "outputs": [
        {
          "output_type": "stream",
          "name": "stdout",
          "text": [
            "파이썬 공부는 재미있습니다.\n"
          ]
        }
      ]
    },
    {
      "cell_type": "markdown",
      "source": [
        "### 11) pickle 모듈을 사용하여 사용자 프로필을 파일에 저장하고 다시 불러와 출력하세요.\n",
        "- pickle 모듈의 dump와 load 함수를 사용하세요.\n",
        "- 프로필은 이름, 나이, 취미를 포함하는 사전 형태로 profile 딕셔녀리를 사용하세요."
      ],
      "metadata": {
        "id": "cuJk9F5cFnY4"
      }
    },
    {
      "cell_type": "code",
      "source": [
        "profile = {\"이름\": \"홍길동\", \"나이\": 20, \"취미\": [\"독서\", \"여행\"]}\n",
        "profile"
      ],
      "metadata": {
        "id": "A5HMEhAxFnY5",
        "colab": {
          "base_uri": "https://localhost:8080/"
        },
        "outputId": "670ee94b-76ce-4727-fdae-7d7b896d25dc"
      },
      "execution_count": null,
      "outputs": [
        {
          "output_type": "execute_result",
          "data": {
            "text/plain": [
              "{'이름': '홍길동', '나이': 20, '취미': ['독서', '여행']}"
            ]
          },
          "metadata": {},
          "execution_count": 1
        }
      ]
    },
    {
      "cell_type": "code",
      "source": [
        "import pickle\n",
        "\n",
        "profile = {\"이름\": \"홍길동\", \"나이\": 20, \"취미\": [\"독서\", \"여행\"]}\n",
        "profile\n",
        "\n",
        "x = pickle.dump(profile, open(\"profile.pickle\", \"wb\"))\n",
        "\n",
        "pickle.load(open(\"profile.pickle\", \"rb\"))"
      ],
      "metadata": {
        "id": "J3jDYRupHS97",
        "colab": {
          "base_uri": "https://localhost:8080/"
        },
        "outputId": "e8bcd554-22c2-42c5-a856-20d23b70b353"
      },
      "execution_count": null,
      "outputs": [
        {
          "output_type": "execute_result",
          "data": {
            "text/plain": [
              "{'이름': '홍길동', '나이': 20, '취미': ['독서', '여행']}"
            ]
          },
          "metadata": {},
          "execution_count": 14
        }
      ]
    },
    {
      "cell_type": "markdown",
      "source": [
        "### 12) 파일 'score.txt'에 성적 정보를 쓰고, 이어서 다른 성적 정보를 추가하세요.\n",
        "- open 함수를 사용하여 파일을 처음에는 쓰기 모드로, 그 다음에는 이어쓰기 모드로 엽니다.\n",
        "- print 함수를 사용하여 파일에 성적 정보를 쓰고, write 메서드를 사용하여 추가 정보를 기록하세요.\n",
        "- 파일을 닫으세요.\n",
        "\n",
        "\n",
        "처음 입력할 정보  \n",
        "```\n",
        "수학: 95\n",
        "영어: 88\n",
        "```\n",
        "\n",
        "파일 저장 후 불러와서 이어서 작성할 정보\n",
        "```\n",
        "과학: 90\n",
        "코딩: 100\n",
        "```\n",
        "\n",
        "최종 score.txt 파일 내용\n",
        "\n",
        "```\n",
        "수학: 95\n",
        "영어: 88\n",
        "과학: 90\n",
        "코딩: 100\n",
        "```\n",
        "\n"
      ],
      "metadata": {
        "id": "X29m0jRyFnY5"
      }
    },
    {
      "cell_type": "code",
      "source": [
        "with open(\"score.txt\", \"w\") as f:\n",
        "  print(\"수학: 95\", file=f)\n",
        "  print(\"영어: 88\", file=f)\n",
        "\n",
        "with open(\"score.txt\", \"a\") as f:\n",
        "  print(\"과학: 90\", file=f)\n",
        "  print(\"코딩: 100\", file=f)\n",
        "\n",
        "  f.close()"
      ],
      "metadata": {
        "id": "YAJNG1sFFnY5"
      },
      "execution_count": null,
      "outputs": []
    },
    {
      "cell_type": "code",
      "source": [],
      "metadata": {
        "id": "CxrgbXM_S331"
      },
      "execution_count": null,
      "outputs": []
    }
  ]
}