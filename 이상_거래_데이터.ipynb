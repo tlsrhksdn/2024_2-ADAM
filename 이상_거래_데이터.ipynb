{
  "nbformat": 4,
  "nbformat_minor": 0,
  "metadata": {
    "colab": {
      "provenance": [],
      "authorship_tag": "ABX9TyOn7oZ+hAINQLkr8RPAj4gd",
      "include_colab_link": true
    },
    "kernelspec": {
      "name": "python3",
      "display_name": "Python 3"
    },
    "language_info": {
      "name": "python"
    }
  },
  "cells": [
    {
      "cell_type": "markdown",
      "metadata": {
        "id": "view-in-github",
        "colab_type": "text"
      },
      "source": [
        "<a href=\"https://colab.research.google.com/github/tlsrhksdn/2024_2-ADAM/blob/project/%EC%9D%B4%EC%83%81_%EA%B1%B0%EB%9E%98_%EB%8D%B0%EC%9D%B4%ED%84%B0.ipynb\" target=\"_parent\"><img src=\"https://colab.research.google.com/assets/colab-badge.svg\" alt=\"Open In Colab\"/></a>"
      ]
    },
    {
      "cell_type": "code",
      "source": [
        "pip install koreanize-matplotlib"
      ],
      "metadata": {
        "colab": {
          "base_uri": "https://localhost:8080/"
        },
        "id": "UBLWEmawstQi",
        "outputId": "961eef63-596c-4ce7-d298-4ad45631bc8f"
      },
      "execution_count": null,
      "outputs": [
        {
          "output_type": "stream",
          "name": "stdout",
          "text": [
            "Requirement already satisfied: koreanize-matplotlib in /usr/local/lib/python3.10/dist-packages (0.1.1)\n",
            "Requirement already satisfied: matplotlib in /usr/local/lib/python3.10/dist-packages (from koreanize-matplotlib) (3.8.0)\n",
            "Requirement already satisfied: contourpy>=1.0.1 in /usr/local/lib/python3.10/dist-packages (from matplotlib->koreanize-matplotlib) (1.3.0)\n",
            "Requirement already satisfied: cycler>=0.10 in /usr/local/lib/python3.10/dist-packages (from matplotlib->koreanize-matplotlib) (0.12.1)\n",
            "Requirement already satisfied: fonttools>=4.22.0 in /usr/local/lib/python3.10/dist-packages (from matplotlib->koreanize-matplotlib) (4.54.1)\n",
            "Requirement already satisfied: kiwisolver>=1.0.1 in /usr/local/lib/python3.10/dist-packages (from matplotlib->koreanize-matplotlib) (1.4.7)\n",
            "Requirement already satisfied: numpy<2,>=1.21 in /usr/local/lib/python3.10/dist-packages (from matplotlib->koreanize-matplotlib) (1.26.4)\n",
            "Requirement already satisfied: packaging>=20.0 in /usr/local/lib/python3.10/dist-packages (from matplotlib->koreanize-matplotlib) (24.1)\n",
            "Requirement already satisfied: pillow>=6.2.0 in /usr/local/lib/python3.10/dist-packages (from matplotlib->koreanize-matplotlib) (10.4.0)\n",
            "Requirement already satisfied: pyparsing>=2.3.1 in /usr/local/lib/python3.10/dist-packages (from matplotlib->koreanize-matplotlib) (3.2.0)\n",
            "Requirement already satisfied: python-dateutil>=2.7 in /usr/local/lib/python3.10/dist-packages (from matplotlib->koreanize-matplotlib) (2.8.2)\n",
            "Requirement already satisfied: six>=1.5 in /usr/local/lib/python3.10/dist-packages (from python-dateutil>=2.7->matplotlib->koreanize-matplotlib) (1.16.0)\n"
          ]
        }
      ]
    },
    {
      "cell_type": "code",
      "execution_count": null,
      "metadata": {
        "colab": {
          "base_uri": "https://localhost:8080/",
          "height": 74
        },
        "id": "As717VFZA5l1",
        "outputId": "ea96a674-ef43-4fed-8b05-72884d462ea9"
      },
      "outputs": [
        {
          "output_type": "display_data",
          "data": {
            "text/plain": [
              "<IPython.core.display.HTML object>"
            ],
            "text/html": [
              "\n",
              "     <input type=\"file\" id=\"files-8e07062d-c133-4317-9db0-2ba5bfb06934\" name=\"files[]\" multiple disabled\n",
              "        style=\"border:none\" />\n",
              "     <output id=\"result-8e07062d-c133-4317-9db0-2ba5bfb06934\">\n",
              "      Upload widget is only available when the cell has been executed in the\n",
              "      current browser session. Please rerun this cell to enable.\n",
              "      </output>\n",
              "      <script>// Copyright 2017 Google LLC\n",
              "//\n",
              "// Licensed under the Apache License, Version 2.0 (the \"License\");\n",
              "// you may not use this file except in compliance with the License.\n",
              "// You may obtain a copy of the License at\n",
              "//\n",
              "//      http://www.apache.org/licenses/LICENSE-2.0\n",
              "//\n",
              "// Unless required by applicable law or agreed to in writing, software\n",
              "// distributed under the License is distributed on an \"AS IS\" BASIS,\n",
              "// WITHOUT WARRANTIES OR CONDITIONS OF ANY KIND, either express or implied.\n",
              "// See the License for the specific language governing permissions and\n",
              "// limitations under the License.\n",
              "\n",
              "/**\n",
              " * @fileoverview Helpers for google.colab Python module.\n",
              " */\n",
              "(function(scope) {\n",
              "function span(text, styleAttributes = {}) {\n",
              "  const element = document.createElement('span');\n",
              "  element.textContent = text;\n",
              "  for (const key of Object.keys(styleAttributes)) {\n",
              "    element.style[key] = styleAttributes[key];\n",
              "  }\n",
              "  return element;\n",
              "}\n",
              "\n",
              "// Max number of bytes which will be uploaded at a time.\n",
              "const MAX_PAYLOAD_SIZE = 100 * 1024;\n",
              "\n",
              "function _uploadFiles(inputId, outputId) {\n",
              "  const steps = uploadFilesStep(inputId, outputId);\n",
              "  const outputElement = document.getElementById(outputId);\n",
              "  // Cache steps on the outputElement to make it available for the next call\n",
              "  // to uploadFilesContinue from Python.\n",
              "  outputElement.steps = steps;\n",
              "\n",
              "  return _uploadFilesContinue(outputId);\n",
              "}\n",
              "\n",
              "// This is roughly an async generator (not supported in the browser yet),\n",
              "// where there are multiple asynchronous steps and the Python side is going\n",
              "// to poll for completion of each step.\n",
              "// This uses a Promise to block the python side on completion of each step,\n",
              "// then passes the result of the previous step as the input to the next step.\n",
              "function _uploadFilesContinue(outputId) {\n",
              "  const outputElement = document.getElementById(outputId);\n",
              "  const steps = outputElement.steps;\n",
              "\n",
              "  const next = steps.next(outputElement.lastPromiseValue);\n",
              "  return Promise.resolve(next.value.promise).then((value) => {\n",
              "    // Cache the last promise value to make it available to the next\n",
              "    // step of the generator.\n",
              "    outputElement.lastPromiseValue = value;\n",
              "    return next.value.response;\n",
              "  });\n",
              "}\n",
              "\n",
              "/**\n",
              " * Generator function which is called between each async step of the upload\n",
              " * process.\n",
              " * @param {string} inputId Element ID of the input file picker element.\n",
              " * @param {string} outputId Element ID of the output display.\n",
              " * @return {!Iterable<!Object>} Iterable of next steps.\n",
              " */\n",
              "function* uploadFilesStep(inputId, outputId) {\n",
              "  const inputElement = document.getElementById(inputId);\n",
              "  inputElement.disabled = false;\n",
              "\n",
              "  const outputElement = document.getElementById(outputId);\n",
              "  outputElement.innerHTML = '';\n",
              "\n",
              "  const pickedPromise = new Promise((resolve) => {\n",
              "    inputElement.addEventListener('change', (e) => {\n",
              "      resolve(e.target.files);\n",
              "    });\n",
              "  });\n",
              "\n",
              "  const cancel = document.createElement('button');\n",
              "  inputElement.parentElement.appendChild(cancel);\n",
              "  cancel.textContent = 'Cancel upload';\n",
              "  const cancelPromise = new Promise((resolve) => {\n",
              "    cancel.onclick = () => {\n",
              "      resolve(null);\n",
              "    };\n",
              "  });\n",
              "\n",
              "  // Wait for the user to pick the files.\n",
              "  const files = yield {\n",
              "    promise: Promise.race([pickedPromise, cancelPromise]),\n",
              "    response: {\n",
              "      action: 'starting',\n",
              "    }\n",
              "  };\n",
              "\n",
              "  cancel.remove();\n",
              "\n",
              "  // Disable the input element since further picks are not allowed.\n",
              "  inputElement.disabled = true;\n",
              "\n",
              "  if (!files) {\n",
              "    return {\n",
              "      response: {\n",
              "        action: 'complete',\n",
              "      }\n",
              "    };\n",
              "  }\n",
              "\n",
              "  for (const file of files) {\n",
              "    const li = document.createElement('li');\n",
              "    li.append(span(file.name, {fontWeight: 'bold'}));\n",
              "    li.append(span(\n",
              "        `(${file.type || 'n/a'}) - ${file.size} bytes, ` +\n",
              "        `last modified: ${\n",
              "            file.lastModifiedDate ? file.lastModifiedDate.toLocaleDateString() :\n",
              "                                    'n/a'} - `));\n",
              "    const percent = span('0% done');\n",
              "    li.appendChild(percent);\n",
              "\n",
              "    outputElement.appendChild(li);\n",
              "\n",
              "    const fileDataPromise = new Promise((resolve) => {\n",
              "      const reader = new FileReader();\n",
              "      reader.onload = (e) => {\n",
              "        resolve(e.target.result);\n",
              "      };\n",
              "      reader.readAsArrayBuffer(file);\n",
              "    });\n",
              "    // Wait for the data to be ready.\n",
              "    let fileData = yield {\n",
              "      promise: fileDataPromise,\n",
              "      response: {\n",
              "        action: 'continue',\n",
              "      }\n",
              "    };\n",
              "\n",
              "    // Use a chunked sending to avoid message size limits. See b/62115660.\n",
              "    let position = 0;\n",
              "    do {\n",
              "      const length = Math.min(fileData.byteLength - position, MAX_PAYLOAD_SIZE);\n",
              "      const chunk = new Uint8Array(fileData, position, length);\n",
              "      position += length;\n",
              "\n",
              "      const base64 = btoa(String.fromCharCode.apply(null, chunk));\n",
              "      yield {\n",
              "        response: {\n",
              "          action: 'append',\n",
              "          file: file.name,\n",
              "          data: base64,\n",
              "        },\n",
              "      };\n",
              "\n",
              "      let percentDone = fileData.byteLength === 0 ?\n",
              "          100 :\n",
              "          Math.round((position / fileData.byteLength) * 100);\n",
              "      percent.textContent = `${percentDone}% done`;\n",
              "\n",
              "    } while (position < fileData.byteLength);\n",
              "  }\n",
              "\n",
              "  // All done.\n",
              "  yield {\n",
              "    response: {\n",
              "      action: 'complete',\n",
              "    }\n",
              "  };\n",
              "}\n",
              "\n",
              "scope.google = scope.google || {};\n",
              "scope.google.colab = scope.google.colab || {};\n",
              "scope.google.colab._files = {\n",
              "  _uploadFiles,\n",
              "  _uploadFilesContinue,\n",
              "};\n",
              "})(self);\n",
              "</script> "
            ]
          },
          "metadata": {}
        },
        {
          "output_type": "stream",
          "name": "stdout",
          "text": [
            "Saving kaggle.json to kaggle.json\n"
          ]
        }
      ],
      "source": [
        "import koreanize_matplotlib\n",
        "from google.colab import files\n",
        "\n",
        "# 1. kaggle.json 파일을 Colab에 업로드\n",
        "files.upload()  # kaggle.json 파일을 업로드\n",
        "\n",
        "# 2. Kaggle API 설정 파일을 올바른 위치로 이동\n",
        "!mkdir -p ~/.kaggle\n",
        "!mv kaggle.json ~/.kaggle/\n",
        "!chmod 600 ~/.kaggle/kaggle.json\n"
      ]
    },
    {
      "cell_type": "code",
      "source": [
        "# 데이터셋 다운로드 명령어\n",
        "!kaggle datasets download -d waqi786/global-black-money-transactions-dataset"
      ],
      "metadata": {
        "colab": {
          "base_uri": "https://localhost:8080/"
        },
        "id": "O9hZW4ErHPTv",
        "outputId": "baf58cc9-af84-4d99-ac02-86335eb0432d"
      },
      "execution_count": null,
      "outputs": [
        {
          "output_type": "stream",
          "name": "stdout",
          "text": [
            "Dataset URL: https://www.kaggle.com/datasets/waqi786/global-black-money-transactions-dataset\n",
            "License(s): apache-2.0\n",
            "global-black-money-transactions-dataset.zip: Skipping, found more recently modified local copy (use --force to force download)\n"
          ]
        }
      ]
    },
    {
      "cell_type": "code",
      "source": [
        "# 압축 파일 해제\n",
        "!unzip global-black-money-transactions-dataset.zip -d ./dataset"
      ],
      "metadata": {
        "colab": {
          "base_uri": "https://localhost:8080/"
        },
        "id": "CRL2Gf7DHZa3",
        "outputId": "af24ce7f-11bf-412f-dd20-3e94bb18ef8f"
      },
      "execution_count": null,
      "outputs": [
        {
          "output_type": "stream",
          "name": "stdout",
          "text": [
            "Archive:  global-black-money-transactions-dataset.zip\n",
            "replace ./dataset/Big_Black_Money_Dataset.csv? [y]es, [n]o, [A]ll, [N]one, [r]ename: y\n",
            "  inflating: ./dataset/Big_Black_Money_Dataset.csv  \n"
          ]
        }
      ]
    },
    {
      "cell_type": "code",
      "source": [
        "#1. 라이브러리 및 데이터 로드\n",
        "import pandas as pd\n",
        "import numpy as np\n",
        "import matplotlib.pyplot as plt\n",
        "import seaborn as sns\n",
        "from sklearn.model_selection import train_test_split\n",
        "from sklearn.tree import DecisionTreeClassifier\n",
        "from sklearn.metrics import classification_report, confusion_matrix\n",
        "\n",
        "#2. 데이터 탐색 및 이해\n",
        "df = pd.read_csv('./dataset/Big_Black_Money_Dataset.csv')\n",
        "df.head()  # 데이터 확인\n",
        "\n",
        "# # 데이터의 전체적인 정보 확인\n",
        "# df.info()\n",
        "\n",
        "# #수치형 데이터의 통계량 확인\n",
        "# df.describe()\n",
        "\n",
        "# # 데이터셋에 포함된 모든 열의 이름을 리스트로 출력\n",
        "# df.columns.tolist()\n",
        "\n",
        "# #3. 결측값 및 이상치 처리\n",
        "# # 각 열에 존재하는 결측값의 수 확인\n",
        "# df.isnull().sum()\n",
        "\n",
        "# # 수치형 데이터에서 이상치 있는지 확인\n",
        "# plt.figure(figsize=(10,6))\n",
        "# sns.boxplot(x=df['Amount (USD)'])\n",
        "# plt.show()\n",
        "\n",
        "# # #4. 데이터 시각화\n",
        "# 거래 유형('Transaction Type')별 거래 건수 시각화\n",
        "# plt.figure(figsize=(12, 6))\n",
        "# sns.countplot(x='Transaction Type', data=df)\n",
        "# plt.xticks(rotation=45)\n",
        "# plt.title('거래 유형별 거래 건수')\n",
        "# plt.show()\n",
        "\n",
        "# #국가별 거래 금액 합계 시각화(상위 10개 국가)\n",
        "# country_amount = df.groupby('Country')['Amount (USD)'].sum().sort_values(ascending=False).head(10)\n",
        "# plt.figure(figsize=(12,6))\n",
        "# sns.barplot(x=country_amount.index, y=country_amount.values)\n",
        "# plt.xticks(rotation=45)\n",
        "# plt.title('국가별 거래 금액 합계 (상위 10개 국가)')\n",
        "# plt.show()\n",
        "\n",
        "# #'Money Laundering Risk Score'의 분포 확인\n",
        "# plt.figure(figsize=(10,6))\n",
        "# sns.histplot(df['Money Laundering Risk Score'], bins=10, kde=True)\n",
        "# plt.title('자금세탁 위험 점수 분포')\n",
        "# plt.show()\n",
        "\n",
        "# #'Amount(USD)'와 'Money Lanudering Risk Score'의 관계 시각화\n",
        "# plt.figure(figsize=(10,6))\n",
        "# sns.scatterplot(x='Amount (USD)', y='Money Laundering Risk Score', data=df)\n",
        "# plt.title('거래 금액과 자금세탁 위험 점수의 관계')\n",
        "# plt.show()\n",
        "\n",
        "#5. 데이터 전처리\n",
        "df_processed = pd.get_dummies(df, columns=['Transaction Type', 'Country', 'Industry', 'Destination Country', 'Source of Money', 'Financial Institution', 'Tax Haven Country', 'Person Involved'])\n",
        "# 불필요한 열(예: 'Transaction ID', 'Date of Transaction')은 제거\n",
        "df_processed.drop(['Transaction ID', 'Date of Transaction'], axis=1, inplace=True)\n",
        "# 목표 변수 'Reported by Authority'를 숫자형으로 변환\n",
        "df_processed['Reported by Authority'] = df_processed['Reported by Authority'].map({True:1, False:0})\n",
        "# 특징(features)와 목표 변수(target)을 분리\n",
        "X = df_processed.drop('Reported by Authority', axis=1)\n",
        "y = df_processed['Reported by Authority']\n",
        "\n",
        "# 6. 데이터 분할\n",
        "# 모델의 학습과 평가를 위해 데이터를 훈련 세트와 테스트 세트로 분할\n",
        "\n",
        "# # train_test_split 함수를 사용하여 데이터를 분할\n",
        "X_train, X_test, y_train, y_test = train_test_split(X, y, test_size = 0.2, random_state = 42)\n",
        "\n",
        "# # 7. 머신러닝 모델 구축\n",
        "# # 의사결정 나무 분류기를 사용하여 모델을 학습\n",
        "\n",
        "# # DecisionTreeClassifier를 사용하여 모델을 초기화하고 훈련 세트로 학습한다.\n",
        "\n",
        "clf = DecisionTreeClassifier(random_state=42)\n",
        "clf.fit(X_train, y_train)\n",
        "\n",
        "# # 8. 모델 평가\n",
        "# # 테스트 세트를 사용하여 모델의 성능을 평가\n",
        "\n",
        "# 예측값 생성\n",
        "y_pred = clf.predict(X_test)\n",
        "\n",
        "# 혼동 행렬을 생성하고 시각화\n",
        "from sklearn.metrics import confusion_matrix\n",
        "cm = confusion_matrix(y_test, y_pred)\n",
        "sns.heatmap(cm, annot=True, fmt='d')\n",
        "plt.xlabel('예측값')\n",
        "plt.ylabel('실제값')\n",
        "plt.show()\n",
        "\n",
        "# # 분류 보고서를 출력하여 정확도, 정밀도, 재현율 등을 확인\n",
        "from sklearn.metrics import classification_report\n",
        "print(classification_report(y_test, y_pred))\n",
        "\n",
        "# # 9. 결과 해석 및 보고서 작성\n",
        "# # 분석 결과를 바탕으로 금융 범죄 예방을 위한 인사이트를 도출하고 보고서를 작성한다.\n",
        "\n",
        "feature_importances = pd.Series(clf.feature_importances_, index=X.columns)\n",
        "feature_importances.nlargest(10).plot(kind='barh')\n",
        "plt.title('특성 중요도 상위 10개')\n",
        "plt.show()\n"
      ],
      "metadata": {
        "colab": {
          "base_uri": "https://localhost:8080/",
          "height": 1000
        },
        "id": "_YP7eq2eBpPF",
        "outputId": "3735f389-bb2e-4ebd-8543-3e575843f1ff"
      },
      "execution_count": null,
      "outputs": [
        {
          "output_type": "display_data",
          "data": {
            "text/plain": [
              "<Figure size 640x480 with 2 Axes>"
            ],
            "image/png": "[encoded data removed]"
          },
          "metadata": {}
        },
        {
          "output_type": "stream",
          "name": "stdout",
          "text": [
            "              precision    recall  f1-score   support\n",
            "\n",
            "           0       0.80      0.90      0.85      1602\n",
            "           1       0.20      0.10      0.13       398\n",
            "\n",
            "    accuracy                           0.74      2000\n",
            "   macro avg       0.50      0.50      0.49      2000\n",
            "weighted avg       0.68      0.74      0.71      2000\n",
            "\n"
          ]
        },
        {
          "output_type": "display_data",
          "data": {
            "text/plain": [
              "<Figure size 640x480 with 1 Axes>"
            ],
            "image/png": "[encoded data removed]"
          },
          "metadata": {}
        }
      ]
    },
    {
      "cell_type": "markdown",
      "source": [],
      "metadata": {
        "id": "A55Guu4wfYCi"
      }
    }
  ]
}