{
  "nbformat": 4,
  "nbformat_minor": 0,
  "metadata": {
    "colab": {
      "provenance": [],
      "include_colab_link": true
    },
    "kernelspec": {
      "name": "python3",
      "display_name": "Python 3"
    },
    "language_info": {
      "name": "python"
    }
  },
  "cells": [
    {
      "cell_type": "markdown",
      "metadata": {
        "id": "view-in-github",
        "colab_type": "text"
      },
      "source": [
        "<a href=\"https://colab.research.google.com/github/tlsrhksdn/2024_2-ADAM/blob/examples/010_%EB%AA%A8%EB%93%88_%EC%8D%A8%EB%B3%B4%EA%B8%B0_ipynb%EC%9D%98_%EC%82%AC%EB%B3%B8.ipynb\" target=\"_parent\"><img src=\"https://colab.research.google.com/assets/colab-badge.svg\" alt=\"Open In Colab\"/></a>"
      ]
    },
    {
      "cell_type": "markdown",
      "source": [
        "# 010_모듈 써보기\n",
        "\n",
        "- 예시 답이 있는 문제는 답 작성 방법에 대한 간단한 예시이므로, 코드를 따라 적어보거나 읽어본 뒤 넘어가시면 됩니다.\n",
        "\n",
        "---"
      ],
      "metadata": {
        "id": "lxgz0fGKnwmV"
      }
    },
    {
      "cell_type": "markdown",
      "source": [
        "### 1) requests 패키지를 설치하고 웹 페이지의 내용을 가져와 출력하기\n",
        "- requests 패키지를 설치하세요.\n",
        "- http://example.com 웹 페이지의 내용을 GET 요청으로 가져오고, 응답 내용을 출력하세요.\n",
        "\n"
      ],
      "metadata": {
        "id": "ejzxPDxVlcmk"
      }
    },
    {
      "cell_type": "code",
      "source": [
        "# 예시 답 (패키지 설치와 import)\n",
        "!pip install requests  # 주피터 노트북에서는 앞에 !를 붙여서 pip install을 실행합니다.\n",
        "import requests"
      ],
      "metadata": {
        "id": "xbUfSSzElb_6",
        "colab": {
          "base_uri": "https://localhost:8080/"
        },
        "outputId": "bc22a15e-0140-4f9a-9fc1-3f254109386b"
      },
      "execution_count": null,
      "outputs": [
        {
          "output_type": "stream",
          "name": "stdout",
          "text": [
            "Requirement already satisfied: requests in /usr/local/lib/python3.10/dist-packages (2.31.0)\n",
            "Requirement already satisfied: charset-normalizer<4,>=2 in /usr/local/lib/python3.10/dist-packages (from requests) (3.3.2)\n",
            "Requirement already satisfied: idna<4,>=2.5 in /usr/local/lib/python3.10/dist-packages (from requests) (3.6)\n",
            "Requirement already satisfied: urllib3<3,>=1.21.1 in /usr/local/lib/python3.10/dist-packages (from requests) (2.0.7)\n",
            "Requirement already satisfied: certifi>=2017.4.17 in /usr/local/lib/python3.10/dist-packages (from requests) (2024.2.2)\n"
          ]
        }
      ]
    },
    {
      "cell_type": "code",
      "source": [
        "# 웹 페이지 내용을 가져옵니다.\n",
        "response = requests.get(\"http://example.com\")\n",
        "print(response.text)"
      ],
      "metadata": {
        "colab": {
          "base_uri": "https://localhost:8080/"
        },
        "id": "IBKNTF-OKP96",
        "outputId": "55160e4a-e922-435b-85b5-4bc024ff51c1"
      },
      "execution_count": null,
      "outputs": [
        {
          "output_type": "stream",
          "name": "stdout",
          "text": [
            "<!doctype html>\n",
            "<html>\n",
            "<head>\n",
            "    <title>Example Domain</title>\n",
            "\n",
            "    <meta charset=\"utf-8\" />\n",
            "    <meta http-equiv=\"Content-type\" content=\"text/html; charset=utf-8\" />\n",
            "    <meta name=\"viewport\" content=\"width=device-width, initial-scale=1\" />\n",
            "    <style type=\"text/css\">\n",
            "    body {\n",
            "        background-color: #f0f0f2;\n",
            "        margin: 0;\n",
            "        padding: 0;\n",
            "        font-family: -apple-system, system-ui, BlinkMacSystemFont, \"Segoe UI\", \"Open Sans\", \"Helvetica Neue\", Helvetica, Arial, sans-serif;\n",
            "        \n",
            "    }\n",
            "    div {\n",
            "        width: 600px;\n",
            "        margin: 5em auto;\n",
            "        padding: 2em;\n",
            "        background-color: #fdfdff;\n",
            "        border-radius: 0.5em;\n",
            "        box-shadow: 2px 3px 7px 2px rgba(0,0,0,0.02);\n",
            "    }\n",
            "    a:link, a:visited {\n",
            "        color: #38488f;\n",
            "        text-decoration: none;\n",
            "    }\n",
            "    @media (max-width: 700px) {\n",
            "        div {\n",
            "            margin: 0 auto;\n",
            "            width: auto;\n",
            "        }\n",
            "    }\n",
            "    </style>    \n",
            "</head>\n",
            "\n",
            "<body>\n",
            "<div>\n",
            "    <h1>Example Domain</h1>\n",
            "    <p>This domain is for use in illustrative examples in documents. You may use this\n",
            "    domain in literature without prior coordination or asking for permission.</p>\n",
            "    <p><a href=\"https://www.iana.org/domains/example\">More information...</a></p>\n",
            "</div>\n",
            "</body>\n",
            "</html>\n",
            "\n"
          ]
        }
      ]
    },
    {
      "cell_type": "markdown",
      "source": [
        "### 2) numpy 패키지를 사용하여 배열을 생성하고 그 합을 계산하기\n",
        "- numpy 패키지를 설치하고 `import numpy as np`로 import하세요\n",
        "- numpy를 사용하여 1부터 10까지의 정수 배열을 생성하고, 배열의 모든 요소의 합을 계산하세요.\n",
        "\n"
      ],
      "metadata": {
        "id": "IM443b1DJv2p"
      }
    },
    {
      "cell_type": "code",
      "source": [
        "# TODO: pip install과 import\n",
        "!pip install numpy\n",
        "import numpy as np\n"
      ],
      "metadata": {
        "id": "qJuIkiqvJv2q",
        "colab": {
          "base_uri": "https://localhost:8080/"
        },
        "outputId": "8b711227-7c76-4332-905d-a2cda5cdfb1b"
      },
      "execution_count": null,
      "outputs": [
        {
          "output_type": "stream",
          "name": "stdout",
          "text": [
            "Requirement already satisfied: numpy in /usr/local/lib/python3.10/dist-packages (1.26.4)\n"
          ]
        }
      ]
    },
    {
      "cell_type": "code",
      "source": [
        "# numpy를 사용하는 부분입니다. 위의 import를 실행하고 이 코드박스를 실행해보세요.\n",
        "array = np.arange(1, 11)  # 배열을 생성하고 합을 계산합니다.\n",
        "print(\"합:\", np.sum(array))"
      ],
      "metadata": {
        "id": "J683JH6EKqMt",
        "colab": {
          "base_uri": "https://localhost:8080/"
        },
        "outputId": "bb5bc5b5-689b-42b9-b810-3804d2a27ea7"
      },
      "execution_count": null,
      "outputs": [
        {
          "output_type": "stream",
          "name": "stdout",
          "text": [
            "합: 55\n"
          ]
        }
      ]
    },
    {
      "cell_type": "markdown",
      "source": [
        "### 3) numpy 패키지를 삭제하세요.\n",
        "\n",
        "- `pip uninstall`을 사용하세요\n",
        "- 주피터노트북에서는 pip의 앞에 `!`를 붙여서 사용합니다.\n",
        "\n"
      ],
      "metadata": {
        "id": "L2d_Wv6kJwHb"
      }
    },
    {
      "cell_type": "code",
      "source": [
        "!pip uninstall numpy"
      ],
      "metadata": {
        "id": "QgVW1ve8JwHc"
      },
      "execution_count": null,
      "outputs": []
    }
  ]
}