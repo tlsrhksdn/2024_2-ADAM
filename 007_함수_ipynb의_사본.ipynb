{
  "nbformat": 4,
  "nbformat_minor": 0,
  "metadata": {
    "colab": {
      "provenance": [],
      "include_colab_link": true
    },
    "kernelspec": {
      "name": "python3",
      "display_name": "Python 3"
    },
    "language_info": {
      "name": "python"
    }
  },
  "cells": [
    {
      "cell_type": "markdown",
      "metadata": {
        "id": "view-in-github",
        "colab_type": "text"
      },
      "source": [
        "<a href=\"https://colab.research.google.com/github/tlsrhksdn/2024_2-ADAM/blob/examples/007_%ED%95%A8%EC%88%98_ipynb%EC%9D%98_%EC%82%AC%EB%B3%B8.ipynb\" target=\"_parent\"><img src=\"https://colab.research.google.com/assets/colab-badge.svg\" alt=\"Open In Colab\"/></a>"
      ]
    },
    {
      "cell_type": "markdown",
      "source": [
        "# 007_함수\n",
        "\n",
        "\n",
        "- 예시 답이 있는 문제는 답 작성 방법에 대한 간단한 예시이므로, 코드를 따라 적어보거나 읽어본 뒤 넘어가시면 됩니다.\n",
        "\n",
        "- 기존 실습보다 조금 어려울 수 있습니다. 예시 답들을 참고해서, 조건을 잘 읽고 코드를 작성해보세요.\n",
        "\n",
        "---"
      ],
      "metadata": {
        "id": "lxgz0fGKnwmV"
      }
    },
    {
      "cell_type": "markdown",
      "source": [
        "### 1) 다음 조건에 따라 함수를 생성하고 호출하세요.\n",
        "\n",
        "- 함수 이름은 create_account로, \"계좌가 생성되었습니다.\"라는 문장을 출력하세요.\n",
        "- 함수를 호출하여 결과를 확인하세요."
      ],
      "metadata": {
        "id": "ejzxPDxVlcmk"
      }
    },
    {
      "cell_type": "code",
      "source": [
        "# 예시 답\n",
        "def create_account():\n",
        "    print(\"계좌가 생성되었습니다.\")\n",
        "\n",
        "create_account()"
      ],
      "metadata": {
        "colab": {
          "base_uri": "https://localhost:8080/"
        },
        "id": "xbUfSSzElb_6",
        "outputId": "f302e783-2198-4bfc-ac52-bd7d4fc794bb"
      },
      "execution_count": null,
      "outputs": [
        {
          "output_type": "stream",
          "name": "stdout",
          "text": [
            "계좌가 생성되었습니다.\n"
          ]
        }
      ]
    },
    {
      "cell_type": "markdown",
      "source": [
        "### 2) 다음 조건에 따라 함수를 생성하고 값을 반환하세요.\n",
        "\n",
        "- 함수 이름은 calculate_balance로, 전달받는 initial_balance와 deposit_amount를 더한 후 결과를 반환하세요.\n",
        "- 초기 잔액 10000원과 입금액 2000원을 변수로 사용하여 함수를 호출하고 결과를 출력하세요."
      ],
      "metadata": {
        "id": "PXaEuBlr2myG"
      }
    },
    {
      "cell_type": "code",
      "source": [
        "def calcuate_balance(initial_balance, deposit_amount):\n",
        "    return initial_balance + deposit_amount\n",
        "\n",
        "initial_balance = 10000\n",
        "deposit_amount = 2000\n",
        "result = calcuate_balance(initial_balance, deposit_amount)\n",
        "print(result)"
      ],
      "metadata": {
        "id": "3F2u8lPL2myH"
      },
      "execution_count": null,
      "outputs": []
    },
    {
      "cell_type": "markdown",
      "source": [
        "### 3) 전달값과 반환값을 포함한 함수를 생성하세요.\n",
        "- 함수 이름은 withdraw_money로, 현재 잔액 balance에서 출금액 money를 뺀 후 잔액을 반환하세요.\n",
        "- 현재 잔액 15000원, 출금액 5000원을 사용하여 함수를 호출하고 결과를 출력하세요."
      ],
      "metadata": {
        "id": "Dteiwre42nBt"
      }
    },
    {
      "cell_type": "code",
      "source": [
        "def withdraw_money(balance, money):\n",
        "    return balance - money\n",
        "\n",
        "balance = 15000\n",
        "money = 5000\n",
        "result = withdraw_money(balance, money)\n",
        "print(result)"
      ],
      "metadata": {
        "id": "Xh0YI6rT2nBu"
      },
      "execution_count": null,
      "outputs": []
    },
    {
      "cell_type": "markdown",
      "source": [
        "### 4) 다음 조건에 따라 저녁 출금 함수를 생성하세요.\n",
        "- 함수 이름은 withdraw_evening로, 출금 수수료 commission 150원을 고려하여 출금 후의 잔액과 수수료를 함께 반환하세요.\n",
        "- 현재 잔액 20000원에서 6000원을 출금 시도할 때 사용하세요."
      ],
      "metadata": {
        "id": "5LMhIBNX2nBu"
      }
    },
    {
      "cell_type": "code",
      "source": [
        "# 예시 답\n",
        "def withdraw_evening(balance, money):\n",
        "    commission = 150\n",
        "    return commission, balance - money - commission\n",
        "\n",
        "balance = 20000\n",
        "commission, balance = withdraw_evening(balance, 6000)\n",
        "print(\"수수료:\", commission, \"원, 잔액:\", balance, \"원\")"
      ],
      "metadata": {
        "colab": {
          "base_uri": "https://localhost:8080/"
        },
        "id": "kEfz0rkU2nBu",
        "outputId": "a202b7e9-e8b3-4438-9c58-38cc9cbff110"
      },
      "execution_count": null,
      "outputs": [
        {
          "output_type": "stream",
          "name": "stdout",
          "text": [
            "수수료: 150 원, 잔액: 13850 원\n"
          ]
        }
      ]
    },
    {
      "cell_type": "markdown",
      "source": [
        "### 5) 기본값을 갖는 함수를 생성하세요.\n",
        "- 함수 이름은 display_profile로, 이름(name), 나이(age=25), 주 사용 언어(main_lang=\"JavaScript\")를 전달받아 출력하세요.\n",
        "- 이름만 전달받아 함수를 호출하세요."
      ],
      "metadata": {
        "id": "cLGBq4lg2nTl"
      }
    },
    {
      "cell_type": "code",
      "source": [
        "def display_profile(name, age=25, main_lang=\"JavaScript\"):\n",
        "    print(\"이름:\", name)\n",
        "    print(\"나이:\", age)\n",
        "    print(\"주 사용 언어:\", main_lang)\n",
        "\n",
        "display_profile(\"홍길동\")"
      ],
      "metadata": {
        "id": "JpwAoz5H2nTl",
        "colab": {
          "base_uri": "https://localhost:8080/"
        },
        "outputId": "986ace5f-6883-4b97-8f21-a02d12de9f87"
      },
      "execution_count": null,
      "outputs": [
        {
          "output_type": "stream",
          "name": "stdout",
          "text": [
            "이름: 홍길동\n",
            "나이: 25\n",
            "주 사용 언어: JavaScript\n"
          ]
        }
      ]
    },
    {
      "cell_type": "markdown",
      "source": [
        "### 6) 키워드 인자를 사용하여 함수를 호출하세요.\n",
        "- 앞서 작성된 display_profile 함수를 사용하여, 키워드 인자를 이용해 이름, 나이, 주 사용 언어 순서를 바꿔 호출하세요.\n",
        "- 나이는 30, 주사용 언어는 Python, name은 David로 하세요."
      ],
      "metadata": {
        "id": "XEnmTsxG2nTl"
      }
    },
    {
      "cell_type": "code",
      "source": [
        "def dispay_profile(name, age, main_lang):\n",
        "\n",
        "    print(\"나이:\", age)\n",
        "    print(\"주 사용 언어:\", main_lang)\n",
        "    print(\"이름:\", name)\n",
        "\n",
        "dispay_profile(age=30, main_lang=\"Python\", name=\"David\")"
      ],
      "metadata": {
        "id": "6VNWeEcQ2nTm",
        "colab": {
          "base_uri": "https://localhost:8080/"
        },
        "outputId": "550073af-d2c6-4c8f-ba57-2f5652b53011"
      },
      "execution_count": null,
      "outputs": [
        {
          "output_type": "stream",
          "name": "stdout",
          "text": [
            "나이: 30\n",
            "주 사용 언어: Python\n",
            "이름: David\n"
          ]
        }
      ]
    },
    {
      "cell_type": "markdown",
      "source": [
        "### 7) 전달값이 있는 함수를 생성하여 조건에 따라 다른 출력을 반환하세요.\n",
        "- 함수 이름은 login_status로, 사용자 이름과 비밀번호를 전달받아, 정확하면 \"로그인 성공!\"을, 그렇지 않으면 \"로그인 실패!\"를 출력하세요.\n",
        "- 사용자 이름 \"admin\", 비밀번호 \"1234\"를 정확히 입력받았다고 가정하고 함수를 호출하세요."
      ],
      "metadata": {
        "id": "_Hbzvu0_2nTm"
      }
    },
    {
      "cell_type": "code",
      "source": [
        "# 예시 답\n",
        "\n",
        "def login_status(username, password):\n",
        "    if username == \"admin\" and password == \"1234\":\n",
        "        print(\"로그인 성공!\")\n",
        "    else:\n",
        "        print(\"로그인 실패!\")\n",
        "\n",
        "login_status(\"admin\", \"1234\")"
      ],
      "metadata": {
        "colab": {
          "base_uri": "https://localhost:8080/"
        },
        "id": "LQzuPII92nTm",
        "outputId": "280aee9f-e058-4d2f-8dfe-6115941b02cf"
      },
      "execution_count": null,
      "outputs": [
        {
          "output_type": "stream",
          "name": "stdout",
          "text": [
            "로그인 성공!\n"
          ]
        }
      ]
    },
    {
      "cell_type": "markdown",
      "source": [
        "### 8) 조건을 확인하여 반환 값을 결정하는 함수를 생성하세요.\n",
        "- 함수 이름은 calculate_fee로, 나이를 전달받아 20세 이상이면 \"성인 요금\"을, 그렇지 않으면 \"청소년 요금\"을 반환하세요.\n",
        "- 나이 22를 사용하여 함수를 호출하고 결과를 출력하세요."
      ],
      "metadata": {
        "id": "96iiDIiF2nTm"
      }
    },
    {
      "cell_type": "code",
      "source": [
        "def calcuate_fee(age):\n",
        "    if age >= 20:\n",
        "        return \"성인 요금\"\n",
        "    else:\n",
        "        return \"청소년 요금\"\n",
        "\n",
        "result = calcuate_fee(22)\n",
        "print(result)"
      ],
      "metadata": {
        "id": "OYT0QfCO2nTm",
        "colab": {
          "base_uri": "https://localhost:8080/"
        },
        "outputId": "f6c5b529-b6bd-4d84-8eb7-7f069976c805"
      },
      "execution_count": null,
      "outputs": [
        {
          "output_type": "stream",
          "name": "stdout",
          "text": [
            "성인 요금\n"
          ]
        }
      ]
    },
    {
      "cell_type": "markdown",
      "source": [
        "### 9) 전역 변수를 사용하여 값을 관리하는 함수를 생성하세요.\n",
        "- 함수 이름은 update_score로, 전역 변수 score에 점수를 더하는 함수를 작성하세요.\n",
        "- 초기 점수 80, 추가 점수 20를 사용하여 함수를 호출하고 결과를 출력하세요."
      ],
      "metadata": {
        "id": "pBUuJLRZ2ns9"
      }
    },
    {
      "cell_type": "code",
      "source": [
        "# 전역변수\n",
        "score = 80"
      ],
      "metadata": {
        "id": "sppwpAll2ns-"
      },
      "execution_count": null,
      "outputs": []
    },
    {
      "cell_type": "code",
      "source": [
        "# 전역변수\n",
        "score = 80\n",
        "\n",
        "def update_score(additional_score):\n",
        "    global score\n",
        "    score += additional_score\n",
        "\n",
        "update_score(20)\n",
        "print(score)"
      ],
      "metadata": {
        "id": "tshk0I3v5a2-",
        "colab": {
          "base_uri": "https://localhost:8080/"
        },
        "outputId": "0ddf6463-c713-436f-e651-adbd8387d47c"
      },
      "execution_count": null,
      "outputs": [
        {
          "output_type": "stream",
          "name": "stdout",
          "text": [
            "100\n"
          ]
        }
      ]
    },
    {
      "cell_type": "markdown",
      "source": [
        "### 10) 특정 조건을 만족하는 값만 반환하는 함수를 생성하세요.\n",
        "- 함수 이름은 filter_even_numbers로, 주어진 숫자 리스트에서 짝수만 추출하여 반환하세요.\n",
        "- 숫자 리스트 [1, 2, 3, 4, 5, 6]를 사용하여 함수를 호출하고 결과를 출력하세요."
      ],
      "metadata": {
        "id": "3WbbrzgM2ns-"
      }
    },
    {
      "cell_type": "code",
      "source": [
        "# 아래 리스트를 함수에 전달해 호출하세요\n",
        "data = [1, 2, 3, 4, 5, 6]"
      ],
      "metadata": {
        "id": "PLqJCYJH2ns-"
      },
      "execution_count": null,
      "outputs": []
    },
    {
      "cell_type": "code",
      "source": [
        "# 아래 리스트를 함수에 전달해 호출하세요\n",
        "data = [1, 2, 3, 4, 5, 6]\n",
        "\n",
        "def filter_even_numbers(numbers):\n",
        "    even_numbers = []\n",
        "    for number in numbers:\n",
        "        if number % 2 == 0:\n",
        "            even_numbers.append(number)\n",
        "    return even_numbers\n",
        "\n",
        "print(filter_even_numbers(data))"
      ],
      "metadata": {
        "id": "XhTodxh45n7O",
        "colab": {
          "base_uri": "https://localhost:8080/"
        },
        "outputId": "1bd758ee-fea5-4195-bd71-9930f37aecfd"
      },
      "execution_count": null,
      "outputs": [
        {
          "output_type": "stream",
          "name": "stdout",
          "text": [
            "[2, 4, 6]\n"
          ]
        }
      ]
    }
  ]
}