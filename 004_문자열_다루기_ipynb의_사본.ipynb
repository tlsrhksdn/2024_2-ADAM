{
  "nbformat": 4,
  "nbformat_minor": 0,
  "metadata": {
    "colab": {
      "provenance": [],
      "include_colab_link": true
    },
    "kernelspec": {
      "name": "python3",
      "display_name": "Python 3"
    },
    "language_info": {
      "name": "python"
    }
  },
  "cells": [
    {
      "cell_type": "markdown",
      "metadata": {
        "id": "view-in-github",
        "colab_type": "text"
      },
      "source": [
        "<a href=\"https://colab.research.google.com/github/tlsrhksdn/2024_2-ADAM/blob/examples/004_%EB%AC%B8%EC%9E%90%EC%97%B4_%EB%8B%A4%EB%A3%A8%EA%B8%B0_ipynb%EC%9D%98_%EC%82%AC%EB%B3%B8.ipynb\" target=\"_parent\"><img src=\"https://colab.research.google.com/assets/colab-badge.svg\" alt=\"Open In Colab\"/></a>"
      ]
    },
    {
      "cell_type": "markdown",
      "source": [
        "# 004_문자열 다루기\n",
        "\n",
        "- 예시 답이 있는 문제는 답 작성 방법에 대한 간단한 예시이므로, 코드를 따라 적어보거나 읽어본 뒤 넘어가시면 됩니다.\n",
        "\n",
        "---"
      ],
      "metadata": {
        "id": "lxgz0fGKnwmV"
      }
    },
    {
      "cell_type": "markdown",
      "source": [
        "### 1) 문자열을 만드세요.\n",
        "\n",
        "- 문자열 내용: \"커피는 맛있어요\""
      ],
      "metadata": {
        "id": "ejzxPDxVlcmk"
      }
    },
    {
      "cell_type": "code",
      "source": [
        "# 예시 답\n",
        "text = \"커피는 맛있어요\"\n",
        "print(text)"
      ],
      "metadata": {
        "id": "xbUfSSzElb_6",
        "colab": {
          "base_uri": "https://localhost:8080/"
        },
        "outputId": "e6a50c4a-351a-4dec-ce15-baed142811eb"
      },
      "execution_count": null,
      "outputs": [
        {
          "output_type": "stream",
          "name": "stdout",
          "text": [
            "커피는 맛있어요\n"
          ]
        }
      ]
    },
    {
      "cell_type": "markdown",
      "source": [
        "### 2) 여러 줄의 문자열을 만드세요.\n",
        "\n",
        "- 문자열 내용:\n",
        "\n",
        "```\n",
        "\"하늘을 나는 새는\n",
        "자유롭습니다\"\n",
        "```"
      ],
      "metadata": {
        "id": "8NKV6cKFlI2H"
      }
    },
    {
      "cell_type": "code",
      "source": [
        "print(\"하늘을 나는 새는\" + \"\\n\" +\"자유롭습니다\")"
      ],
      "metadata": {
        "id": "68WgeOXHlI2I",
        "colab": {
          "base_uri": "https://localhost:8080/"
        },
        "outputId": "fd9907d9-d7ac-4bd5-c9c2-8f6d83d8df79"
      },
      "execution_count": null,
      "outputs": [
        {
          "output_type": "stream",
          "name": "stdout",
          "text": [
            "하늘을 나는 새는\n",
            "자유롭습니다\n"
          ]
        }
      ]
    },
    {
      "cell_type": "markdown",
      "source": [
        "### 3) 주민등록번호에서 생년월일 부분을 추출하세요.\n",
        "\n",
        "주민등록번호: \"920324-1234567\""
      ],
      "metadata": {
        "id": "cNMygWnvlNp1"
      }
    },
    {
      "cell_type": "code",
      "source": [
        "# 예시 답\n",
        "code = \"920324-1234567\"\n",
        "birth_date = code[:6]\n",
        "print(\"생년월일:\", birth_date)"
      ],
      "metadata": {
        "colab": {
          "base_uri": "https://localhost:8080/"
        },
        "id": "46xIP4oGlNp2",
        "outputId": "2e7bef8a-f7f6-4e80-b60a-aac2fe41f1af"
      },
      "execution_count": null,
      "outputs": [
        {
          "output_type": "stream",
          "name": "stdout",
          "text": [
            "생년월일: 920324\n"
          ]
        }
      ]
    },
    {
      "cell_type": "markdown",
      "source": [
        "### 4) 주민등록번호에서 성별을 나타내는 숫자를 추출하세요.\n",
        "- 주민등록번호: \"920324-1234567\""
      ],
      "metadata": {
        "id": "ONxrBT82lN8H"
      }
    },
    {
      "cell_type": "code",
      "source": [
        "# prompt: 주민등록번호에서 성별을 나타내는 숫자를 추출하세요.\n",
        "\n",
        "code = \"920324-1234567\"\n",
        "gender = code[7]\n",
        "print(\"성별을 나타내는 숫자:\", gender)"
      ],
      "metadata": {
        "id": "zJEZa2yalN8I",
        "colab": {
          "base_uri": "https://localhost:8080/"
        },
        "outputId": "f7e6872c-4cd6-4898-bfee-96c3e9d532a2"
      },
      "execution_count": null,
      "outputs": [
        {
          "output_type": "stream",
          "name": "stdout",
          "text": [
            "성별을 나타내는 숫자: 1\n"
          ]
        }
      ]
    },
    {
      "cell_type": "markdown",
      "source": [
        "### 5) 주민등록번호에서 연도, 월, 일을 분리해 출력하세요.\n",
        "- 주민등록번호: \"920324-1234567\""
      ],
      "metadata": {
        "id": "wloOcyIqlN8J"
      }
    },
    {
      "cell_type": "code",
      "source": [],
      "metadata": {
        "id": "YJemPiFPlN8J"
      },
      "execution_count": null,
      "outputs": []
    },
    {
      "cell_type": "markdown",
      "source": [
        "### 6) 문자열의 길이를 구하세요.\n",
        "- 문자열: \"Python programming\""
      ],
      "metadata": {
        "id": "Q2j6vidZlOQo"
      }
    },
    {
      "cell_type": "code",
      "source": [
        "text = \"Python programming\"\n",
        "length = len(text)\n",
        "print(length)"
      ],
      "metadata": {
        "colab": {
          "base_uri": "https://localhost:8080/"
        },
        "id": "vt5l7n_vlOQp",
        "outputId": "e43b5484-aca6-4e32-f7f4-dd001e476149"
      },
      "execution_count": null,
      "outputs": [
        {
          "output_type": "stream",
          "name": "stdout",
          "text": [
            "18\n"
          ]
        }
      ]
    },
    {
      "cell_type": "markdown",
      "source": [
        "### 7) 문자열에서 첫 번째로 나오는 'p'의 위치를 찾으세요.\n",
        "- 문자열: \"Laptop is portable\""
      ],
      "metadata": {
        "id": "uwwPAWLslOQp"
      }
    },
    {
      "cell_type": "code",
      "source": [
        "text = \"Laptop is portable\";\n",
        "position = text.find('p');\n",
        "print(position)"
      ],
      "metadata": {
        "id": "sU4L91xpfsGE"
      },
      "execution_count": null,
      "outputs": []
    },
    {
      "cell_type": "markdown",
      "source": [],
      "metadata": {
        "id": "-XWDN9hTeyk8"
      }
    },
    {
      "cell_type": "markdown",
      "source": [
        "### 8) 문자열 내 'n'이 나오는 횟수를 구하세요.\n",
        "- 문자열: \"Banana is nice\""
      ],
      "metadata": {
        "id": "b47NKNoTlOQq"
      }
    },
    {
      "cell_type": "code",
      "source": [
        "text = \"Banana is nice\"\n",
        "count = text.count('n')\n",
        "print(count)"
      ],
      "metadata": {
        "id": "6v3NJvNclOQq",
        "colab": {
          "base_uri": "https://localhost:8080/"
        },
        "outputId": "c8091c79-53df-4ffa-ccda-c6154de1a31b"
      },
      "execution_count": null,
      "outputs": [
        {
          "output_type": "stream",
          "name": "stdout",
          "text": [
            "3\n"
          ]
        }
      ]
    },
    {
      "cell_type": "markdown",
      "source": [
        "### 9) %를 사용하여 문자열을 포맷팅하세요.\n",
        "- 문자열: \"저는 %s입니다.\"에 \"학생\"을 삽입하세요."
      ],
      "metadata": {
        "id": "eyJU5JV0lOQq"
      }
    },
    {
      "cell_type": "code",
      "source": [
        "text = \"저는 %s입니다.\" % \"학생\"\n",
        "print(text)"
      ],
      "metadata": {
        "id": "96shEUorlOQr",
        "colab": {
          "base_uri": "https://localhost:8080/"
        },
        "outputId": "c46f9233-ce32-4808-d76a-910f0f3afa1b"
      },
      "execution_count": null,
      "outputs": [
        {
          "output_type": "stream",
          "name": "stdout",
          "text": [
            "저는 학생입니다.\n"
          ]
        }
      ]
    },
    {
      "cell_type": "markdown",
      "source": [
        "### 10) f-string을 사용하여 문자열을 포맷팅하세요.\n",
        "- 변수: age = 30\n",
        "- 문자열: \"저는 {age}살입니다.\""
      ],
      "metadata": {
        "id": "b95v0hgnlOtZ"
      }
    },
    {
      "cell_type": "code",
      "source": [
        "age = 30\n",
        "text = f\"저는 {age}살입니다.\"\n",
        "print(text)"
      ],
      "metadata": {
        "id": "u0ThRcR2lOta",
        "colab": {
          "base_uri": "https://localhost:8080/"
        },
        "outputId": "dece98b7-8f9a-4674-aee9-7f75b52a7c83"
      },
      "execution_count": null,
      "outputs": [
        {
          "output_type": "stream",
          "name": "stdout",
          "text": [
            "저는 30살입니다.\n"
          ]
        }
      ]
    },
    {
      "cell_type": "markdown",
      "source": [
        "### 11) 탈출문자를 사용하여 두 줄의 문자열을 생성하세요.\n",
        "- 문자열 내용:\n",
        "```\n",
        "\"해가 뜨면\n",
        "새가 노래해요\"\n",
        "```"
      ],
      "metadata": {
        "id": "ox1a1vVhlOta"
      }
    },
    {
      "cell_type": "code",
      "source": [
        "# prompt: 탈출문자를 사용하여 두 줄의 문자열을 생성하세요.\n",
        "\n",
        "print(\"해가 뜨면\\n새가 노래해요\")"
      ],
      "metadata": {
        "id": "9zjyK1uklOta"
      },
      "execution_count": null,
      "outputs": []
    },
    {
      "cell_type": "markdown",
      "source": [
        "### 12) 음수 인덱스를 사용하여 주민등록번호 뒷부분을 추출하세요.\n",
        "- 주민등록번호: \"920324-1234567\""
      ],
      "metadata": {
        "id": "SGodv3t1lOta"
      }
    },
    {
      "cell_type": "code",
      "source": [
        "주민등록번호 = \"920324-1234567\"\n",
        "뒷부분 = 주민등록번호[-7:]\n",
        "print(뒷부분)"
      ],
      "metadata": {
        "id": "MqQefTY8lOtb",
        "colab": {
          "base_uri": "https://localhost:8080/"
        },
        "outputId": "c32b4744-dd78-48aa-92c7-fa149b4afb4e"
      },
      "execution_count": null,
      "outputs": [
        {
          "output_type": "stream",
          "name": "stdout",
          "text": [
            "1234567\n"
          ]
        }
      ]
    },
    {
      "cell_type": "markdown",
      "source": [
        "### 13) 문자열의 단어를 다른 단어로 바꾸세요.\n",
        "- 원본 문자열: \"코딩은 재미있어요\"\n",
        "- 바꿀 단어: \"재미있어요\" → \"즐거워요\""
      ],
      "metadata": {
        "id": "a71FCYFilOtb"
      }
    },
    {
      "cell_type": "code",
      "source": [
        "문자열=\"코딩은 재미있어요\"\n",
        "바꿀단어=문자열.replace(\"재미있어요\",\"즐거워요\")\n",
        "print(바꿀단어)"
      ],
      "metadata": {
        "id": "a7wXBVz_lOtb"
      },
      "execution_count": null,
      "outputs": []
    },
    {
      "cell_type": "markdown",
      "source": [
        "### 14) 문자열에서 특정 문자의 위치를 찾으세요.\n",
        "- 문자열: \"행복한 하루 되세요\"\n",
        "- 찾을 문자: \"하\""
      ],
      "metadata": {
        "id": "T_OQb59elOtb"
      }
    },
    {
      "cell_type": "code",
      "source": [
        "문자열=\"행복한 하루 되세요\"\n",
        "위치=문자열.find(\"하\")"
      ],
      "metadata": {
        "id": "ZyaMosA7lOtb"
      },
      "execution_count": null,
      "outputs": []
    }
  ]
}